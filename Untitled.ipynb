{
 "cells": [
  {
   "cell_type": "code",
   "execution_count": 1,
   "metadata": {},
   "outputs": [
    {
     "name": "stdout",
     "output_type": "stream",
     "text": [
      "0\n",
      "f:\\Users\\Ricardo\\Anaconda3\\python.exe\n",
      "# conda environments:\n",
      "#\n",
      "mi_entorno               F:\\Users\\Ricardo\\Anaconda3\\envs\\mi_entorno\n",
      "base                  *  f:\\Users\\Ricardo\\Anaconda3\n",
      "TensorFlowPEC            f:\\Users\\Ricardo\\Anaconda3\\envs\\TensorFlowPEC\n",
      "mi_entorno               f:\\Users\\Ricardo\\Anaconda3\\envs\\mi_entorno\n",
      "my_TFenv                 f:\\Users\\Ricardo\\Anaconda3\\envs\\my_TFenv\n",
      "my_py35                  f:\\Users\\Ricardo\\Anaconda3\\envs\\my_py35\n",
      "\n"
     ]
    },
    {
     "name": "stderr",
     "output_type": "stream",
     "text": [
      "\"source\" no se reconoce como un comando interno o externo,\n",
      "programa o archivo por lotes ejecutable.\n",
      "ERROR:root:File `\"'activate.py\"` not found.\n"
     ]
    },
    {
     "name": "stdout",
     "output_type": "stream",
     "text": [
      "# conda environments:\n",
      "#\n",
      "mi_entorno               F:\\Users\\Ricardo\\Anaconda3\\envs\\mi_entorno\n",
      "base                  *  f:\\Users\\Ricardo\\Anaconda3\n",
      "TensorFlowPEC            f:\\Users\\Ricardo\\Anaconda3\\envs\\TensorFlowPEC\n",
      "mi_entorno               f:\\Users\\Ricardo\\Anaconda3\\envs\\mi_entorno\n",
      "my_TFenv                 f:\\Users\\Ricardo\\Anaconda3\\envs\\my_TFenv\n",
      "my_py35                  f:\\Users\\Ricardo\\Anaconda3\\envs\\my_py35\n",
      "\n"
     ]
    },
    {
     "data": {
      "text/plain": [
       "['El nombre de archivo, el nombre de directorio o la sintaxis de la etiqueta del volumen no son correctos.']"
      ]
     },
     "execution_count": 1,
     "metadata": {},
     "output_type": "execute_result"
    }
   ],
   "source": [
    "import os\n",
    "import sys\n",
    "print(os.system('dir'))\n",
    "os.system('dir')\n",
    "print(sys.executable)\n",
    "! conda info --envs\n",
    "! source activate tensorflow\n",
    "%run 'activate tensorflow'\n",
    "! conda info --envs\n",
    "%sx 'f:\\Users\\Ricardo\\Anaconda3\\conda activate tensorflow'"
   ]
  },
  {
   "cell_type": "code",
   "execution_count": 25,
   "metadata": {},
   "outputs": [
    {
     "data": {
      "text/plain": [
       "0"
      ]
     },
     "execution_count": 25,
     "metadata": {},
     "output_type": "execute_result"
    }
   ],
   "source": [
    "os.system('conda remove --name tensorflow --all -y')"
   ]
  },
  {
   "cell_type": "code",
   "execution_count": 26,
   "metadata": {},
   "outputs": [
    {
     "data": {
      "text/plain": [
       "0"
      ]
     },
     "execution_count": 26,
     "metadata": {},
     "output_type": "execute_result"
    }
   ],
   "source": [
    "os.system('conda create --name tensorflow --file spec-file.txt -y')"
   ]
  },
  {
   "cell_type": "code",
   "execution_count": 6,
   "metadata": {},
   "outputs": [
    {
     "data": {
      "text/plain": [
       "0"
      ]
     },
     "execution_count": 6,
     "metadata": {},
     "output_type": "execute_result"
    }
   ],
   "source": [
    "os.system('activate tensorflow')"
   ]
  },
  {
   "cell_type": "code",
   "execution_count": 10,
   "metadata": {},
   "outputs": [
    {
     "name": "stderr",
     "output_type": "stream",
     "text": [
      "UsageError: Cell magic `%%tensorflow` not found.\n"
     ]
    }
   ],
   "source": [
    "\n",
    "import keras as ke\n",
    "hello = ke.constant('Hello Tensorflow!')\n",
    "sess = ke.Session()\n",
    "sess.run(hello)"
   ]
  },
  {
   "cell_type": "code",
   "execution_count": 3,
   "metadata": {},
   "outputs": [
    {
     "data": {
      "text/plain": [
       "0"
      ]
     },
     "execution_count": 3,
     "metadata": {},
     "output_type": "execute_result"
    }
   ],
   "source": [
    "\n",
    "os.system('conda create -n tensorflow python=3.5 anaconda -y')"
   ]
  },
  {
   "cell_type": "code",
   "execution_count": 13,
   "metadata": {},
   "outputs": [
    {
     "data": {
      "text/plain": [
       "0"
      ]
     },
     "execution_count": 13,
     "metadata": {},
     "output_type": "execute_result"
    }
   ],
   "source": [
    "os.system('conda remove --name tensorflow --all -y')"
   ]
  },
  {
   "cell_type": "code",
   "execution_count": null,
   "metadata": {},
   "outputs": [],
   "source": [
    "os.system('activate tensorflow')"
   ]
  },
  {
   "cell_type": "code",
   "execution_count": null,
   "metadata": {},
   "outputs": [],
   "source": [
    "os.system('conda install spyder')"
   ]
  },
  {
   "cell_type": "code",
   "execution_count": null,
   "metadata": {},
   "outputs": [],
   "source": [
    "os.system('conda install ipython')"
   ]
  },
  {
   "cell_type": "code",
   "execution_count": null,
   "metadata": {},
   "outputs": [],
   "source": [
    "os.system('pip install --ignore-installed --upgrade https://storage.googleapis.com/tensorflow/windows/cpu/tensorflow-1.0.1-cp35-cp35m-win_amd64.whl')"
   ]
  },
  {
   "cell_type": "code",
   "execution_count": 2,
   "metadata": {},
   "outputs": [
    {
     "name": "stdout",
     "output_type": "stream",
     "text": [
      "# conda environments:\n",
      "#\n",
      "mi_entorno               F:\\Users\\Ricardo\\Anaconda3\\envs\\mi_entorno\n",
      "base                  *  f:\\Users\\Ricardo\\Anaconda3\n",
      "mi_entorno               f:\\Users\\Ricardo\\Anaconda3\\envs\\mi_entorno\n",
      "my_TFenv                 f:\\Users\\Ricardo\\Anaconda3\\envs\\my_TFenv\n",
      "my_py35                  f:\\Users\\Ricardo\\Anaconda3\\envs\\my_py35\n",
      "\n",
      "# conda environments:\n",
      "#\n",
      "mi_entorno               F:\\Users\\Ricardo\\Anaconda3\\envs\\mi_entorno\n",
      "base                  *  f:\\Users\\Ricardo\\Anaconda3\n",
      "mi_entorno               f:\\Users\\Ricardo\\Anaconda3\\envs\\mi_entorno\n",
      "my_TFenv                 f:\\Users\\Ricardo\\Anaconda3\\envs\\my_TFenv\n",
      "my_py35                  f:\\Users\\Ricardo\\Anaconda3\\envs\\my_py35\n",
      "\n",
      "Wall time: 2.01 s\n"
     ]
    }
   ],
   "source": [
    "%%time\n",
    "import os\n",
    "import sys\n",
    "\n",
    "! conda info --envs\n",
    "os.system('conda remove --name TensorFlowPEC --all -y')\n",
    "! conda info --envs"
   ]
  },
  {
   "cell_type": "code",
   "execution_count": 3,
   "metadata": {},
   "outputs": [
    {
     "name": "stdout",
     "output_type": "stream",
     "text": [
      "Wall time: 1min 41s\n"
     ]
    },
    {
     "data": {
      "text/plain": [
       "0"
      ]
     },
     "execution_count": 3,
     "metadata": {},
     "output_type": "execute_result"
    }
   ],
   "source": [
    "%%time\n",
    "os.system('conda create --name TensorFlowPEC --file spec-file.txt -y')"
   ]
  },
  {
   "cell_type": "code",
   "execution_count": 3,
   "metadata": {},
   "outputs": [
    {
     "name": "stdout",
     "output_type": "stream",
     "text": [
      "/f/Users/Ricardo/Anaconda3/python\n"
     ]
    }
   ],
   "source": [
    "!which python"
   ]
  },
  {
   "cell_type": "code",
   "execution_count": 5,
   "metadata": {},
   "outputs": [
    {
     "name": "stderr",
     "output_type": "stream",
     "text": [
      "\"source\" no se reconoce como un comando interno o externo,\n",
      "programa o archivo por lotes ejecutable.\n"
     ]
    }
   ],
   "source": [
    "!source TensorFlowPEC/bin/activate"
   ]
  },
  {
   "cell_type": "code",
   "execution_count": 9,
   "metadata": {},
   "outputs": [
    {
     "data": {
      "text/plain": [
       "['# conda environments:',\n",
       " '#',\n",
       " 'mi_entorno               F:\\\\Users\\\\Ricardo\\\\Anaconda3\\\\envs\\\\mi_entorno',\n",
       " 'base                  *  f:\\\\Users\\\\Ricardo\\\\Anaconda3',\n",
       " 'TensorFlowPEC            f:\\\\Users\\\\Ricardo\\\\Anaconda3\\\\envs\\\\TensorFlowPEC',\n",
       " 'mi_entorno               f:\\\\Users\\\\Ricardo\\\\Anaconda3\\\\envs\\\\mi_entorno',\n",
       " 'my_TFenv                 f:\\\\Users\\\\Ricardo\\\\Anaconda3\\\\envs\\\\my_TFenv',\n",
       " 'my_py35                  f:\\\\Users\\\\Ricardo\\\\Anaconda3\\\\envs\\\\my_py35',\n",
       " '']"
      ]
     },
     "execution_count": 9,
     "metadata": {},
     "output_type": "execute_result"
    }
   ],
   "source": [
    "list = !conda env list\n",
    "list"
   ]
  },
  {
   "cell_type": "code",
   "execution_count": null,
   "metadata": {},
   "outputs": [],
   "source": []
  }
 ],
 "metadata": {
  "kernelspec": {
   "display_name": "Python 3",
   "language": "python",
   "name": "python3"
  },
  "language_info": {
   "codemirror_mode": {
    "name": "ipython",
    "version": 3
   },
   "file_extension": ".py",
   "mimetype": "text/x-python",
   "name": "python",
   "nbconvert_exporter": "python",
   "pygments_lexer": "ipython3",
   "version": "3.7.1"
  },
  "toc": {
   "base_numbering": 1,
   "nav_menu": {},
   "number_sections": true,
   "sideBar": true,
   "skip_h1_title": false,
   "title_cell": "Table of Contents",
   "title_sidebar": "Contents",
   "toc_cell": false,
   "toc_position": {},
   "toc_section_display": true,
   "toc_window_display": false
  },
  "varInspector": {
   "cols": {
    "lenName": 16,
    "lenType": 16,
    "lenVar": 40
   },
   "kernels_config": {
    "python": {
     "delete_cmd_postfix": "",
     "delete_cmd_prefix": "del ",
     "library": "var_list.py",
     "varRefreshCmd": "print(var_dic_list())"
    },
    "r": {
     "delete_cmd_postfix": ") ",
     "delete_cmd_prefix": "rm(",
     "library": "var_list.r",
     "varRefreshCmd": "cat(var_dic_list()) "
    }
   },
   "types_to_exclude": [
    "module",
    "function",
    "builtin_function_or_method",
    "instance",
    "_Feature"
   ],
   "window_display": false
  }
 },
 "nbformat": 4,
 "nbformat_minor": 2
}
