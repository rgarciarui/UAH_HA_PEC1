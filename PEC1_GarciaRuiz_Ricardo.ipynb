{
 "cells": [
  {
   "cell_type": "markdown",
   "metadata": {
    "toc": true
   },
   "source": [
    "<h1>Table of Contents<span class=\"tocSkip\"></span></h1>\n",
    "<div class=\"toc\"><ul class=\"toc-item\"><li><span><a href=\"#Introducción-al-dataset-Fashion-Mnist\" data-toc-modified-id=\"Introducción-al-dataset-Fashion-Mnist-1\"><span class=\"toc-item-num\">1&nbsp;&nbsp;</span>Introducción al dataset Fashion-Mnist</a></span><ul class=\"toc-item\"><li><span><a href=\"#Jugando-con-la-moda-MNIST\" data-toc-modified-id=\"Jugando-con-la-moda-MNIST-1.1\"><span class=\"toc-item-num\">1.1&nbsp;&nbsp;</span>Jugando con la moda MNIST</a></span></li><li><span><a href=\"#Entrar-en-la-moda-MNIST\" data-toc-modified-id=\"Entrar-en-la-moda-MNIST-1.2\"><span class=\"toc-item-num\">1.2&nbsp;&nbsp;</span>Entrar en la moda MNIST</a></span></li></ul></li><li><span><a href=\"#Métodos-supervisados\" data-toc-modified-id=\"Métodos-supervisados-2\"><span class=\"toc-item-num\">2&nbsp;&nbsp;</span>Métodos supervisados</a></span><ul class=\"toc-item\"><li><span><a href=\"#Carga-de-datos\" data-toc-modified-id=\"Carga-de-datos-2.1\"><span class=\"toc-item-num\">2.1&nbsp;&nbsp;</span>Carga de datos</a></span><ul class=\"toc-item\"><li><span><a href=\"#Descripción-del-conjunto-de-datos\" data-toc-modified-id=\"Descripción-del-conjunto-de-datos-2.1.1\"><span class=\"toc-item-num\">2.1.1&nbsp;&nbsp;</span>Descripción del conjunto de datos</a></span></li><li><span><a href=\"#Definición-del-conjunto-de-entrenamiento-y-test\" data-toc-modified-id=\"Definición-del-conjunto-de-entrenamiento-y-test-2.1.2\"><span class=\"toc-item-num\">2.1.2&nbsp;&nbsp;</span>Definición del conjunto de entrenamiento y test</a></span></li><li><span><a href=\"#Utilización-de-algoritmo-PCA-para-reducción-dimensión-del-dataset\" data-toc-modified-id=\"Utilización-de-algoritmo-PCA-para-reducción-dimensión-del-dataset-2.1.3\"><span class=\"toc-item-num\">2.1.3&nbsp;&nbsp;</span>Utilización de algoritmo PCA para reducción dimensión del dataset</a></span></li></ul></li><li><span><a href=\"#$k$-vecinos-más-cercanos\" data-toc-modified-id=\"$k$-vecinos-más-cercanos-2.2\"><span class=\"toc-item-num\">2.2&nbsp;&nbsp;</span>$k$ vecinos más cercanos</a></span><ul class=\"toc-item\"><li><span><a href=\"#Cálculo-hiperparámetros-óptimos\" data-toc-modified-id=\"Cálculo-hiperparámetros-óptimos-2.2.1\"><span class=\"toc-item-num\">2.2.1&nbsp;&nbsp;</span>Cálculo hiperparámetros óptimos</a></span></li><li><span><a href=\"#Entrenamiento-de-un-modelo-$k$-nn\" data-toc-modified-id=\"Entrenamiento-de-un-modelo-$k$-nn-2.2.2\"><span class=\"toc-item-num\">2.2.2&nbsp;&nbsp;</span>Entrenamiento de un modelo $k$-nn</a></span></li><li><span><a href=\"#La-matriz-de-confusión\" data-toc-modified-id=\"La-matriz-de-confusión-2.2.3\"><span class=\"toc-item-num\">2.2.3&nbsp;&nbsp;</span>La matriz de confusión</a></span></li></ul></li><li><span><a href=\"#Support-Vector-Machines\" data-toc-modified-id=\"Support-Vector-Machines-2.3\"><span class=\"toc-item-num\">2.3&nbsp;&nbsp;</span>Support Vector Machines</a></span><ul class=\"toc-item\"><li><span><a href=\"#Cálculo-del-valor-óptimo-de-hiperparámetros\" data-toc-modified-id=\"Cálculo-del-valor-óptimo-de-hiperparámetros-2.3.1\"><span class=\"toc-item-num\">2.3.1&nbsp;&nbsp;</span>Cálculo del valor óptimo de hiperparámetros</a></span></li></ul></li><li><span><a href=\"#3.-Redes-neuronales-(4-puntos)\" data-toc-modified-id=\"3.-Redes-neuronales-(4-puntos)-2.4\"><span class=\"toc-item-num\">2.4&nbsp;&nbsp;</span>3. Redes neuronales (4 puntos)</a></span></li><li><span><a href=\"#4.-Optimización-de-métricas-(2-puntos)\" data-toc-modified-id=\"4.-Optimización-de-métricas-(2-puntos)-2.5\"><span class=\"toc-item-num\">2.5&nbsp;&nbsp;</span>4. Optimización de métricas (2 puntos)</a></span></li></ul></li><li><span><a href=\"#PEC-4:-Combinación-de-clasificadores\" data-toc-modified-id=\"PEC-4:-Combinación-de-clasificadores-3\"><span class=\"toc-item-num\">3&nbsp;&nbsp;</span>PEC 4: Combinación de clasificadores</a></span></li><li><span><a href=\"#0.-Carga-de-datos\" data-toc-modified-id=\"0.-Carga-de-datos-4\"><span class=\"toc-item-num\">4&nbsp;&nbsp;</span>0. Carga de datos</a></span></li><li><span><a href=\"#1.-Combinación-paralela-de-clasificadores-base-similares\" data-toc-modified-id=\"1.-Combinación-paralela-de-clasificadores-base-similares-5\"><span class=\"toc-item-num\">5&nbsp;&nbsp;</span>1. Combinación paralela de clasificadores base similares</a></span><ul class=\"toc-item\"><li><span><a href=\"#1.1-Bagging\" data-toc-modified-id=\"1.1-Bagging-5.1\"><span class=\"toc-item-num\">5.1&nbsp;&nbsp;</span>1.1 Bagging</a></span><ul class=\"toc-item\"><li><span><a href=\"#1.1.1-Random-forest-simple-(1-punto)\" data-toc-modified-id=\"1.1.1-Random-forest-simple-(1-punto)-5.1.1\"><span class=\"toc-item-num\">5.1.1&nbsp;&nbsp;</span>1.1.1 Random forest simple (1 punto)</a></span></li><li><span><a href=\"#1.1.2-Out-of-bag-(1-punto)\" data-toc-modified-id=\"1.1.2-Out-of-bag-(1-punto)-5.1.2\"><span class=\"toc-item-num\">5.1.2&nbsp;&nbsp;</span>1.1.2 Out-of-bag (1 punto)</a></span></li><li><span><a href=\"#1.1.3-Probabilidad-por-clase-(1-punto)\" data-toc-modified-id=\"1.1.3-Probabilidad-por-clase-(1-punto)-5.1.3\"><span class=\"toc-item-num\">5.1.3&nbsp;&nbsp;</span>1.1.3 Probabilidad por clase (1 punto)</a></span></li><li><span><a href=\"#1.1.4-Importancia-de-las-variables-(1-punto)\" data-toc-modified-id=\"1.1.4-Importancia-de-las-variables-(1-punto)-5.1.4\"><span class=\"toc-item-num\">5.1.4&nbsp;&nbsp;</span>1.1.4 Importancia de las variables (1 punto)</a></span></li><li><span><a href=\"#1.1.5-Número-de-clasificadores-(1-punto)\" data-toc-modified-id=\"1.1.5-Número-de-clasificadores-(1-punto)-5.1.5\"><span class=\"toc-item-num\">5.1.5&nbsp;&nbsp;</span>1.1.5 Número de clasificadores (1 punto)</a></span></li><li><span><a href=\"#1.1.6-Volumen-de-datos-(1-punto)\" data-toc-modified-id=\"1.1.6-Volumen-de-datos-(1-punto)-5.1.6\"><span class=\"toc-item-num\">5.1.6&nbsp;&nbsp;</span>1.1.6 Volumen de datos (1 punto)</a></span></li></ul></li><li><span><a href=\"#1.2-Boosting-(1-punto)\" data-toc-modified-id=\"1.2-Boosting-(1-punto)-5.2\"><span class=\"toc-item-num\">5.2&nbsp;&nbsp;</span>1.2 Boosting (1 punto)</a></span></li></ul></li><li><span><a href=\"#2.-Combinación-secuencial-de-clasificadores-base-diferentes\" data-toc-modified-id=\"2.-Combinación-secuencial-de-clasificadores-base-diferentes-6\"><span class=\"toc-item-num\">6&nbsp;&nbsp;</span>2. Combinación secuencial de clasificadores base diferentes</a></span><ul class=\"toc-item\"><li><span><a href=\"#2.1-Stacking-(1-punto)\" data-toc-modified-id=\"2.1-Stacking-(1-punto)-6.1\"><span class=\"toc-item-num\">6.1&nbsp;&nbsp;</span>2.1 Stacking (1 punto)</a></span></li><li><span><a href=\"#2.2-Cascading\" data-toc-modified-id=\"2.2-Cascading-6.2\"><span class=\"toc-item-num\">6.2&nbsp;&nbsp;</span>2.2 Cascading</a></span><ul class=\"toc-item\"><li><span><a href=\"#2.2.1-Cascading-simple-(1-punto)\" data-toc-modified-id=\"2.2.1-Cascading-simple-(1-punto)-6.2.1\"><span class=\"toc-item-num\">6.2.1&nbsp;&nbsp;</span>2.2.1 Cascading simple (1 punto)</a></span></li><li><span><a href=\"#2.2.2-Cascading-con-variables-adicionales-(1-punto)\" data-toc-modified-id=\"2.2.2-Cascading-con-variables-adicionales-(1-punto)-6.2.2\"><span class=\"toc-item-num\">6.2.2&nbsp;&nbsp;</span>2.2.2 Cascading con variables adicionales (1 punto)</a></span></li></ul></li></ul></li></ul></div>"
   ]
  },
  {
   "cell_type": "markdown",
   "metadata": {},
   "source": [
    "<div style=\"width: 100%; clear: both;\">\n",
    "<div style=\"float: left; width: 50%;\">\n",
    "<img src=\"https://biblioteca.uah.es/imgs/logo11.png\", align=\"left\">\n",
    "</div>\n",
    "<div style=\"float: right; width: 50%;\">\n",
    "<p style=\"margin: 0; padding-top: 22px; text-align:right;\">EN26 - HERRAMIENTAS DE ANÁLISIS · PEC1</p>\n",
    "    <p style=\"margin: 0; text-align:right;\">ENTORNOS DE ANÁLISIS DE DATOS (PYTHON)  </p>\n",
    "<p style=\"margin: 0; text-align:right;\">2018-2019 · Máster universitario en Ciencia de datos (Data science)</p>\n",
    "</div>\n",
    "</div>\n",
    "<div style=\"width:100%;\">&nbsp;</div>\n",
    "\n",
    "\n",
    "\n",
    "\n",
    "# Introducción al dataset Fashion-Mnist\n",
    "\n",
    "## Jugando con la moda MNIST\n",
    "<div>\n",
    "<br><p>Recientemente, los investigadores de <b>Zalando</b>, una empresa de comercio electrónico, presentaron a Fashion MNIST como un reemplazo directo del conjunto de datos original de MNIST. Al igual que MNIST, <b>Fashion MNIST</b> consiste en un conjunto de entrenamiento que consiste en 60.000 ejemplos pertenecientes a 10 clases diferentes y un conjunto de prueba de 10.000 ejemplos. Cada ejemplo de entrenamiento es una imagen en escala de grises, de tamaño 28x28.</p></div>\n",
    "    \n",
    "## Entrar en la moda MNIST\n",
    "<div><br><p>Al publicar este conjunto de datos, los investigadores de Zalando hicieron las siguientes observaciones en MNIST:</p>\n",
    "\n",
    "<ol start=\"0\"><i>\n",
    "<li>MNIST es demasiado fácil. Las redes convolucionales pueden alcanzar el 99.7% en MNIST. Los algoritmos clásicos de aprendizaje automático también pueden alcanzar el 97% fácilmente. Echa un vistazo a nuestro punto de referencia de lado a lado para Fashion-MNIST vs. MNIST, y lee \"La mayoría de los pares de dígitos MNIST se pueden distinguir bastante bien con solo un píxel\".</li>\n",
    "<li>MNIST está sobreutilizado. En un hilo de Twitter de abril de 2017, el investigador científico de <b>Google Brain</b> y experto en aprendizaje profundo, Ian Goodfellow, hizo un llamamiento a los investigadores a alejarse del conjunto MNIST.</li>\n",
    "<li>MNIST no puede representar tareas CV modernas , como se señala en este hilo de Twitter de abril de 2017, el experto en aprendizaje profundo/autor de Keras, François Chollet.</li>\n",
    "    </i></ol>\n",
    "   <p>Los investigadores introdujeron a Fashion-MNIST como un reemplazo del conjunto de datos MNIST. El nuevo conjunto de datos contiene imágenes de diversos artículos de ropa, como camisas, zapatos, abrigos y otros artículos de moda.</p>\n",
    "   <p><img src=\"https://github.com/zalandoresearch/fashion-mnist/raw/master/doc/img/fashion-mnist-sprite.png\", align=\"cener\"></p>\n",
    "   <p>El dataset Fashion-MNIST comparte la misma estructura dividida de train-test como MNIST. Mientras que en el caso del conjunto de datos MNIST las etiquetas de clase eran dígitos del 0-9, Las etiquetas de clase para Fashion-MNIST son las siguientes:\n",
    "</p>\n",
    "<p><table>\n",
    "<thead>\n",
    "<tr>\n",
    "<th>Label</th>\n",
    "<th>Description</th>\n",
    "</tr>\n",
    "</thead>\n",
    "<tbody>\n",
    "<tr>\n",
    "<td>0</td>\n",
    "<td>T-shirt/top</td>\n",
    "</tr>\n",
    "<tr>\n",
    "<td>1</td>\n",
    "<td>Trouser</td>\n",
    "</tr>\n",
    "<tr>\n",
    "<td>2</td>\n",
    "<td>Pullover</td>\n",
    "</tr>\n",
    "<tr>\n",
    "<td>3</td>\n",
    "<td>Dress</td>\n",
    "</tr>\n",
    "<tr>\n",
    "<td>4</td>\n",
    "<td>Coat</td>\n",
    "</tr>\n",
    "<tr>\n",
    "<td>5</td>\n",
    "<td>Sandal</td>\n",
    "</tr>\n",
    "<tr>\n",
    "<td>6</td>\n",
    "<td>Shirt</td>\n",
    "</tr>\n",
    "<tr>\n",
    "<td>7</td>\n",
    "<td>Sneaker</td>\n",
    "</tr>\n",
    "<tr>\n",
    "<td>8</td>\n",
    "<td>Bag</td>\n",
    "</tr>\n",
    "<tr>\n",
    "<td>9</td>\n",
    "<td>Ankle boot</td>\n",
    "</tr>\n",
    "    </table></p>\n",
    "   </div>\n",
    "   <br>\n",
    "<div>\n",
    "\n",
    "# Métodos supervisados\n",
    "\n",
    "En esta primera parte de la práctica vamos a trabajar en diferentes métodos supervisados aplicados sobre el conjunto de datos [Fashion MNIST](https://github.com/zalandoresearch/fashion-mnist) y trataremos de optimizar diferentes métricas.\n",
    "\n",
    "<ol start=\"0\">\n",
    "  <li>Carga de datos</li>\n",
    "  <li>$k$ vecinos más cercanos</li>\n",
    "  <li>Support vector machines</li>\n",
    "  <li>Redes neuronales</li>\n",
    "  <li>Optimización de métricas</li>\n",
    "</ol>\n",
    "</div>"
   ]
  },
  {
   "cell_type": "markdown",
   "metadata": {},
   "source": [
    "## Carga de datos\n",
    "\n",
    "### Descripción del conjunto de datos\n",
    "\n",
    "El conjunto de datos Fashion MNIST proporcionado por Zalando consta de 70.000 imágenes con 10 clases diferentes de ropa repartidas uniformemente. No obstante, para esta práctica utilizaremos únicamente un subconjunto de 5.000 imágenes que consiste en 1.000 imágenes de 5 clases diferentes.\n",
    "\n",
    "Las imágenes tienen una resolución de 28x28 píxeles en escala de grises, por lo que se pueden representar utilizando un vector de 784 posiciones.\n",
    "\n",
    "El siguiente código cargará las 5.000 imágenes en la variable images y las correspondientes etiquetas (en forma numérica) en la variable labels. Podemos comprobar que la carga ha sido correcta obteniendo las dimensiones de estas dos variables."
   ]
  },
  {
   "cell_type": "code",
   "execution_count": 9,
   "metadata": {},
   "outputs": [
    {
     "name": "stdout",
     "output_type": "stream",
     "text": [
      "Dimensiones del vector de imágenes: (5000, 784)\n",
      "Dimensiones del vector de etiquetas: (5000,)\n"
     ]
    }
   ],
   "source": [
    "import pickle\n",
    "import numpy as np\n",
    "\n",
    "with open(\"data.pickle\", \"rb\") as f:\n",
    "    data = pickle.load(f)\n",
    "    \n",
    "images = data[\"images\"]\n",
    "labels = data[\"labels\"]\n",
    "n_classes = 5\n",
    "labels_text = [\"T-shirt\", \"Trouser\", \"Pullover\", \"Dress\", \"Coat\"]\n",
    "\n",
    "print(\"Dimensiones del vector de imágenes: {}\".format(images.shape))\n",
    "print(\"Dimensiones del vector de etiquetas: {}\".format(labels.shape))"
   ]
  },
  {
   "cell_type": "markdown",
   "metadata": {},
   "source": [
    "Con el siguiente código podemos ver un ejemplo de imagen de cada una de las clases. Para ello reajustamos el vector de 784 dimensiones que representa cada imagen en una matriz de tamaño 28x28 y la transponemos para mostrarla:"
   ]
  },
  {
   "cell_type": "code",
   "execution_count": 10,
   "metadata": {},
   "outputs": [
    {
     "data": {
      "image/png": "[encoded data removed]",
      "text/plain": [
       "<Figure size 720x720 with 5 Axes>"
      ]
     },
     "metadata": {
      "needs_background": "light"
     },
     "output_type": "display_data"
    }
   ],
   "source": [
    "import matplotlib.pyplot as plt\n",
    "%matplotlib inline\n",
    "\n",
    "fig, ax = plt.subplots(1, n_classes, figsize=(10,10))\n",
    "\n",
    "idxs = [np.where(labels == i)[0] for i in range(n_classes)]\n",
    "\n",
    "for i in range(n_classes):\n",
    "    k = np.random.choice(idxs[i])\n",
    "    ax[i].imshow(images[k].reshape(28, 28), cmap=\"gray\")\n",
    "    ax[i].set_title(\"{}\".format(labels_text[i]))"
   ]
  },
  {
   "cell_type": "markdown",
   "metadata": {},
   "source": [
    "### Definición del conjunto de entrenamiento y test\n",
    "\n",
    "De las 5.000 imágenes distintas de subset de datos utilizaremos 4.000 imágenes para entrenar los diferentes modelos y 1.000 imágenes para validar los resultados. Con el siguiente código separamos los datos que hemos cargado anteriormente en dos conjuntos, train y test, de forma estratificada, es decir, en cada uno de los conjuntos las clases aparecen en la misma proporción que en el conjunto original.\n",
    "\n",
    "### Utilización de algoritmo PCA para reducción dimensión del dataset\n",
    "\n",
    "En lugar de trabajar directamente con un vector de 784 dimensiones para cada imagen aplicaremos primero el algoritmo PCA para reducir la dimensión de los ejemplos a 100. El proceso de entrenamiento de PCA lo hacemos con las imágenes de train y luego lo aplicamos también sobre las imágenes de test, de forma que no utilizamos ninguna información de las imágenes en el conjunto de test para entrenar los modelos."
   ]
  },
  {
   "cell_type": "code",
   "execution_count": 11,
   "metadata": {},
   "outputs": [
    {
     "name": "stdout",
     "output_type": "stream",
     "text": [
      "Número de imágenes para entrenar: 4000\n",
      "Número de imágenes para test: 1000\n",
      "Proporción de las etiquetas en el conjunto original: [0.2 0.2 0.2 0.2 0.2]\n",
      "Proporción de las etiquetas en el conjunto de entrenamiento: [0.2 0.2 0.2 0.2 0.2]\n",
      "Proporción de las etiquetas en el conjunto de test: [0.2 0.2 0.2 0.2 0.2]\n"
     ]
    }
   ],
   "source": [
    "from sklearn.model_selection import train_test_split\n",
    "from sklearn.decomposition import PCA\n",
    "\n",
    "X_train, X_test, y_train, y_test = train_test_split(images, labels, test_size=0.2, random_state=2017, stratify=labels)\n",
    "\n",
    "pca = PCA(n_components=100, random_state=2017)\n",
    "pca_fit = pca.fit(X_train)\n",
    "X_train_pca = pca_fit.transform(X_train)\n",
    "X_test_pca = pca_fit.transform(X_test)\n",
    "\n",
    "def proporcion_etiquetas(y):\n",
    "    _, count = np.unique(y, return_counts=True)\n",
    "    return np.true_divide(count, y.shape[0])\n",
    "    \n",
    "\n",
    "print(\"Número de imágenes para entrenar: {}\".format(X_train_pca.shape[0]))\n",
    "print(\"Número de imágenes para test: {}\".format(X_test_pca.shape[0]))\n",
    "\n",
    "print(\"Proporción de las etiquetas en el conjunto original: {}\".format(proporcion_etiquetas(labels)))\n",
    "print(\"Proporción de las etiquetas en el conjunto de entrenamiento: {}\".format(proporcion_etiquetas(y_train)))\n",
    "print(\"Proporción de las etiquetas en el conjunto de test: {}\".format(proporcion_etiquetas(y_test)))"
   ]
  },
  {
   "cell_type": "markdown",
   "metadata": {},
   "source": [
    "## $k$ vecinos más cercanos\n",
    "\n",
    "El primer algoritmo que utilizaremos para clasificar las imágenes de ropa es el  $k$-nn. En este paso del análisis del dataset ajustaremos dos hiperparámetros del algoritmo:\n",
    "\n",
    "<ol><i>\n",
    "<li>$k$: el número de vecinos que se consideran para clasificar un nuevo ejemplo. Probaremos con todos los valores entre 1 y 10.</li>\n",
    "<li>pesos: importancia que se da a cada uno de los vecinos considerados. En este caso probaremos dos opciones: </li>\n",
    "    <ol>    \n",
    "    <li>pesos uniformes, donde todos los vecinos se consideran igual</li>\n",
    "    <li>pesos según distancia, donde los vecinos más cercanos tienen más peso en la clasificación que los vecinos más lejanos.</li>\n",
    "    </ol>\n",
    "</ol>\n",
    "\n",
    "Para decidir cuáles son los hiperparámetros óptimos utilizaremos una búsqueda de rejilla (grid search), es decir, entrenaremos un modelo para cada combinación de hiperparámetros posible y la evaluaremos utilizando validación cruzada (cross validation) con 4 particiones estratificadas. Posteriormente escogeremos la combinación de hiperparámetros que mejor resultados haya dado."
   ]
  },
  {
   "cell_type": "markdown",
   "metadata": {},
   "source": [
    "### Cálculo hiperparámetros óptimos\n",
    "<br>\n",
    "<div style=\"background-color: #EDF7FF; border-color: #7C9DBF; border-left: 5px solid #7C9DBF; padding: 0.5em;\">\n",
    "<p><strong>Implementación:</strong> Calcularemos el valor óptimo de los hiperparámetros $k$ y pesos. Vamos a utilizar los módulos GridSearchCV y KNeighborsClassifier de sklearn.</p>\n",
    "</div>"
   ]
  },
  {
   "cell_type": "code",
   "execution_count": 12,
   "metadata": {},
   "outputs": [
    {
     "name": "stdout",
     "output_type": "stream",
     "text": [
      "La búsqueda llevó 65.81802892684937 segundos\n",
      "17) Precisión media: 83.55 +/- 1.32 con parámetros {'n_neighbors': 1, 'weights': 'uniform'}\n",
      "17) Precisión media: 83.55 +/- 1.32 con parámetros {'n_neighbors': 1, 'weights': 'distance'}\n",
      "20) Precisión media: 82.53 +/- 1.10 con parámetros {'n_neighbors': 2, 'weights': 'uniform'}\n",
      "17) Precisión media: 83.55 +/- 1.32 con parámetros {'n_neighbors': 2, 'weights': 'distance'}\n",
      "15) Precisión media: 85.20 +/- 0.78 con parámetros {'n_neighbors': 3, 'weights': 'uniform'}\n",
      "13) Precisión media: 85.38 +/- 0.66 con parámetros {'n_neighbors': 3, 'weights': 'distance'}\n",
      "16) Precisión media: 84.92 +/- 0.78 con parámetros {'n_neighbors': 4, 'weights': 'uniform'}\n",
      "10) Precisión media: 85.58 +/- 0.61 con parámetros {'n_neighbors': 4, 'weights': 'distance'}\n",
      "2) Precisión media: 85.95 +/- 0.86 con parámetros {'n_neighbors': 5, 'weights': 'uniform'}\n",
      "4) Precisión media: 85.90 +/- 0.87 con parámetros {'n_neighbors': 5, 'weights': 'distance'}\n",
      "12) Precisión media: 85.40 +/- 0.91 con parámetros {'n_neighbors': 6, 'weights': 'uniform'}\n",
      "1) Precisión media: 86.10 +/- 0.72 con parámetros {'n_neighbors': 6, 'weights': 'distance'}\n",
      "8) Precisión media: 85.70 +/- 0.63 con parámetros {'n_neighbors': 7, 'weights': 'uniform'}\n",
      "2) Precisión media: 85.95 +/- 0.82 con parámetros {'n_neighbors': 7, 'weights': 'distance'}\n",
      "11) Precisión media: 85.55 +/- 1.09 con parámetros {'n_neighbors': 8, 'weights': 'uniform'}\n",
      "4) Precisión media: 85.90 +/- 0.79 con parámetros {'n_neighbors': 8, 'weights': 'distance'}\n",
      "13) Precisión media: 85.38 +/- 1.13 con parámetros {'n_neighbors': 9, 'weights': 'uniform'}\n",
      "6) Precisión media: 85.82 +/- 1.24 con parámetros {'n_neighbors': 9, 'weights': 'distance'}\n",
      "9) Precisión media: 85.65 +/- 1.01 con parámetros {'n_neighbors': 10, 'weights': 'uniform'}\n",
      "6) Precisión media: 85.82 +/- 0.93 con parámetros {'n_neighbors': 10, 'weights': 'distance'}\n"
     ]
    }
   ],
   "source": [
    "from sklearn.model_selection import GridSearchCV\n",
    "from sklearn.neighbors import KNeighborsClassifier\n",
    "from time import time\n",
    "\n",
    "clf = KNeighborsClassifier()\n",
    "            \n",
    "param_grid = {\"n_neighbors\": range(1, 11), \"weights\": [\"uniform\", \"distance\"]}\n",
    "\n",
    "grid_search = GridSearchCV(clf, param_grid=param_grid, cv=4)\n",
    "\n",
    "start = time()\n",
    "grid_search.fit(X_train_pca, y_train)\n",
    "end = time()\n",
    "\n",
    "print(\"La búsqueda llevó {} segundos\".format(end - start))\n",
    "\n",
    "means = grid_search.cv_results_[\"mean_test_score\"]\n",
    "stds = grid_search.cv_results_[\"std_test_score\"]\n",
    "params = grid_search.cv_results_['params']\n",
    "ranks = grid_search.cv_results_['rank_test_score']\n",
    "\n",
    "for rank, mean, std, pms in zip(ranks, means, stds, params):\n",
    "    print(\"{}) Precisión media: {:.2f} +/- {:.2f} con parámetros {}\".format(rank, mean*100, std*100, pms))"
   ]
  },
  {
   "cell_type": "markdown",
   "metadata": {},
   "source": [
    "<div style=\"background-color: #EDF7FF; border-color: #7C9DBF; border-left: 5px solid #7C9DBF; padding: 0.5em;\">\n",
    "<strong>Análisis:</strong> A partir de los resultados anteriores podemos considerar responder de manera sencilla las siguientes cuestiones:\n",
    "<ol>\n",
    "    <li>¿Qué parámetros han dado mejores resultados?</li>\n",
    "        <li>¿Qué variación hay entre las diferentes combinaciones de parámetros?</li>\n",
    "            <li>¿Es significativa la variación entre las diferentes combinaciones?</li>\n",
    "                <li>¿Hay algún parámetro que influya más que el otro?</li>\n",
    "                    <li>¿Era de esperar?</li>\n",
    "</ol>\n",
    "</div>"
   ]
  },
  {
   "cell_type": "markdown",
   "metadata": {},
   "source": [
    "<b>Respuesta: </b>\n",
    "<div style=\"background-color: #FCF2F2; border-color: #dfb5b4; border-left: 5px solid #7C9DBF; padding: 0.5em;\">\n",
    "    <ul>\n",
    "<li>La mejor solución es con k = 6 y los pesos calculados con la distancia.\n",
    "<li>La máxima diferencia ente las precisiones medias es de unos 3.5 puntos porcentuales, con desviaciones estandard del orden de 1 punto porcentual podemos afirmar que hay opciones claramente mejores que otras.\n",
    "<li>Para k = 1 los pesos no importan, ya que siempre se clasifican los nuevos ejemplos con la clase del vecino más cercano.\n",
    "<li>Parece que la precisión depende más de k que del tipo de los pesos, aún así es interesante notar que en prácticamente todos los casos es mejor utilizar pesos con distancias en vez de uniformes, lo cual es lógico porque al utilizar las distancias el algoritmo tiene más información.\n",
    "    </ul>\n",
    "</div>"
   ]
  },
  {
   "cell_type": "markdown",
   "metadata": {},
   "source": [
    "### Entrenamiento de un modelo $k$-nn\n",
    "<br>\n",
    "<div style=\"background-color: #EDF7FF; border-color: #7C9DBF; border-left: 5px solid #7C9DBF; padding: 0.5em;\">\n",
    "<strong>Implementación:</strong> Ahora procederemos a realizar un entrenamiento de un modelo $k$-nn con los valores de los hiperparámetros óptimos utilizando todo el conjunto *X_train_pca* y mostraremos la precisión de la predicción del modelo en el conjunto *X_test_pca*.\n",
    "</div>"
   ]
  },
  {
   "cell_type": "markdown",
   "metadata": {},
   "source": [
    "<div style=\"background-color: #FCF2F2; border-color: #dfb5b4; border-left: 5px solid #7C9DBF; padding: 0.5em;\">\n",
    "La codificación siguiente realiza el entrenamiento $k$-nn, y finalmente muestra la precisión del conjunto de test.\n",
    "</div>"
   ]
  },
  {
   "cell_type": "code",
   "execution_count": 14,
   "metadata": {},
   "outputs": [
    {
     "name": "stdout",
     "output_type": "stream",
     "text": [
      "Valor óptimo para k: 6\n",
      "Valor óptimo para weights: distance\n",
      "Precisión en el conjunto de test: 86.60%\n"
     ]
    }
   ],
   "source": [
    "print(\"Valor óptimo para k: {}\".format(grid_search.best_params_[\"n_neighbors\"]))\n",
    "print(\"Valor óptimo para weights: {}\".format(grid_search.best_params_[\"weights\"]))\n",
    "\n",
    "clf = KNeighborsClassifier(n_neighbors=grid_search.best_params_[\"n_neighbors\"], weights=grid_search.best_params_[\"weights\"])\n",
    "clf.fit(X_train_pca, y_train)\n",
    "\n",
    "preds = clf.predict(X_test_pca)\n",
    "\n",
    "accuracy = np.true_divide(np.sum(preds == y_test), preds.shape[0])*100\n",
    "print(\"Precisión en el conjunto de test: {:.2f}%\".format(accuracy))"
   ]
  },
  {
   "cell_type": "markdown",
   "metadata": {},
   "source": [
    "### La matriz de confusión\n",
    "<br>\n",
    "<div style=\"background-color: #EDF7FF; border-color: #7C9DBF; border-left: 5px solid #7C9DBF; padding: 0.5em;\">\n",
    "<strong>Implementación:</strong> Finalmente mostramos la matriz de confusión del modelo y algunas imágenes que el modelo ha clasificado incorrectamente junto con la etiqueta asignada por el modelo y la etiqueta original.\n",
    "</div>"
   ]
  },
  {
   "cell_type": "code",
   "execution_count": 15,
   "metadata": {},
   "outputs": [
    {
     "data": {
      "image/png": "[encoded data removed]",
      "text/plain": [
       "<Figure size 432x288 with 2 Axes>"
      ]
     },
     "metadata": {
      "needs_background": "light"
     },
     "output_type": "display_data"
    },
    {
     "data": {
      "image/png": "[encoded data removed]",
      "text/plain": [
       "<Figure size 720x720 with 5 Axes>"
      ]
     },
     "metadata": {
      "needs_background": "light"
     },
     "output_type": "display_data"
    }
   ],
   "source": [
    "import itertools\n",
    "from sklearn.metrics import confusion_matrix\n",
    "\n",
    "cnf_matrix = confusion_matrix(y_test, preds)\n",
    "\n",
    "def plot_confusion_matrix(cm, classes):\n",
    "    cm = cm.astype('float') / cm.sum(axis=1)[:, np.newaxis]\n",
    "   \n",
    "    cmap=plt.cm.Blues\n",
    "\n",
    "    plt.imshow(cm, interpolation='nearest', cmap=cmap)\n",
    "    plt.colorbar()\n",
    "    tick_marks = np.arange(len(classes))\n",
    "    plt.xticks(tick_marks, classes, rotation=45)\n",
    "    plt.yticks(tick_marks, classes)\n",
    "\n",
    "    thresh = cm.max() / 2.\n",
    "    for i, j in itertools.product(range(cm.shape[0]), range(cm.shape[1])):\n",
    "        plt.text(j, i, format(cm[i, j], \".2f\"),\n",
    "                 horizontalalignment=\"center\",\n",
    "                 color=\"white\" if cm[i, j] > thresh else \"black\")\n",
    "\n",
    "    plt.tight_layout()\n",
    "    plt.ylabel('True label')\n",
    "    plt.xlabel('Predicted label')\n",
    "\n",
    "plot_confusion_matrix(cnf_matrix, classes=labels_text)\n",
    "\n",
    "fig, ax = plt.subplots(1, n_classes, figsize=(10,10))\n",
    "\n",
    "idxs = [np.where((y_test == i) & (preds != i))[0] for i in range(n_classes)]\n",
    "\n",
    "for i in range(n_classes):\n",
    "    k = np.random.choice(idxs[i])\n",
    "    ax[i].imshow(X_test[k].reshape(28, 28), cmap=\"gray\")\n",
    "    ax[i].set_title(\"GT: {}\\n Pred: {}\".format(labels_text[y_test[k]], labels_text[preds[k]]))"
   ]
  },
  {
   "cell_type": "markdown",
   "metadata": {},
   "source": [
    "<div style=\"background-color: #EDF7FF; border-color: #7C9DBF; border-left: 5px solid #7C9DBF; padding: 0.5em;\">\n",
    "<strong>Análisis:</strong> A la vista de los resultados obtenidos y de la matriz de confusión podemos plantearnos responder a las cuestiones:\n",
    "<ol>\n",
    "    <li>¿Cómo son los errores?</li>\n",
    "    <li>¿Parecen razonables?</li>\n",
    "    </ol>\n",
    "</div>"
   ]
  },
  {
   "cell_type": "markdown",
   "metadata": {},
   "source": [
    "<b>Respuesta: </b>\n",
    "<div style=\"background-color: #FCF2F2; border-color: #dfb5b4; border-left: 5px solid #7C9DBF; padding: 0.5em;\">\n",
    "    <ul>\n",
    "<li>Es interesante notar que cuando el modelo predice \"Trouser\" casi nunca se equivoca: 97% acierto.\n",
    "<li>La confusión más grande aparece entre \"Pullover\" y \"Coat\": 18% Pullover y 17% Coat.\n",
    "<li>Viendo algunos ejemplos parece razonable que el modelo confunda algunas imágenes de \"Pullover\" con \"Coat\" y viceversa. También las confusiones entre \"T-shirt\" y \"Pullover\" o \"Dress\" y \"Coat\" podrían justificarse.    \n",
    "    </ul>\n",
    "</div>"
   ]
  },
  {
   "cell_type": "markdown",
   "metadata": {},
   "source": [
    "## Support Vector Machines\n",
    "\n",
    "Como continuación de la práctica, en esta segunda parte clasificaremos las imágenes de ropa utilizando el algoritmo SVM con el kernel radial. En este caso, en lugar de utilizar una búsqueda de rejilla para ajustar los hiperparámetros del algoritmo utilizaremos una búsqueda aleatoria, es decir, probaremos combinaciones de parámetros al azar. Los hiperparámetros a optimizar son:\n",
    "\n",
    "<ul>\n",
    "<li>C: el valor de penalización de los errores en la clasificación. Marca el compromiso entre obtener el hiperplano con el mayor margen posible y clasificar el máximo número de ejemplos correctamente. Probaremos valores aleatorios distribuidos uniformemente entre 1 y 500.</li>\n",
    "<li> gamma: coeficiente que multiplica la distancia entre dos puntos en el kernel radial. Probaremos valores aleatorios distribuidos uniformemente entre 0.001 y 0.1</li>\n",
    "</ul>\n",
    "Igual que en el caso anterior, para validar el rendimiento del algoritmo con cada combinación de hiperparámetros utilizaremos validación cruzada (cross-validation) con 4 particiones estratificadas."
   ]
  },
  {
   "cell_type": "markdown",
   "metadata": {},
   "source": [
    "### Cálculo del valor óptimo de hiperparámetros\n",
    "<br>\n",
    "<div style=\"background-color: #EDF7FF; border-color: #7C9DBF; border-left: 5px solid #7C9DBF; padding: 0.5em;\">\n",
    "<strong>Implementación:</strong> En este primer paso calculamos el valor óptimo de los hiperparámetros C y gamma utilizando 10 combinaciones de parámetros elegidas al azar. Para ello utilizaremos los módulos RandomizedSearchCV y svm de sklearn, así como el módulo uniform de scipy.\n",
    "</div>"
   ]
  },
  {
   "cell_type": "code",
   "execution_count": 16,
   "metadata": {},
   "outputs": [
    {
     "name": "stdout",
     "output_type": "stream",
     "text": [
      "La búsqueda llevó 83.76783585548401 segundos\n",
      "1) Precisión media: 88.30 +/- 0.92 con parámetros {'C': 235.89223684051302, 'gamma': 0.053467178358976214}\n",
      "1) Precisión media: 88.30 +/- 1.02 con parámetros {'C': 30.320067894146817, 'gamma': 0.05598437958241016}\n",
      "8) Precisión media: 87.00 +/- 1.12 con parámetros {'C': 274.3042185133532, 'gamma': 0.09289969025969598}\n",
      "6) Precisión media: 87.60 +/- 0.96 con parámetros {'C': 370.08824460737196, 'gamma': 0.07568078934708235}\n",
      "10) Precisión media: 86.90 +/- 1.06 con parámetros {'C': 135.28519457795068, 'gamma': 0.09966378055337108}\n",
      "3) Precisión media: 88.25 +/- 1.06 con parámetros {'C': 342.62523219493136, 'gamma': 0.0545744865426032}\n",
      "5) Precisión media: 87.72 +/- 0.95 con parámetros {'C': 136.6134260790927, 'gamma': 0.021235453205188683}\n",
      "7) Precisión media: 87.30 +/- 1.12 con parámetros {'C': 30.475049491885287, 'gamma': 0.08643278789094584}\n",
      "8) Precisión media: 87.00 +/- 1.29 con parámetros {'C': 197.9396297634492, 'gamma': 0.0029191470264940504}\n",
      "4) Precisión media: 87.83 +/- 1.03 con parámetros {'C': 111.59301855323184, 'gamma': 0.02265698441747537}\n"
     ]
    }
   ],
   "source": [
    "from sklearn.model_selection import RandomizedSearchCV\n",
    "from sklearn import svm\n",
    "from scipy.stats import uniform as sp_rand\n",
    "from time import time\n",
    "\n",
    "clf = svm.SVC()\n",
    "\n",
    "param_dist = {\"C\": sp_rand(loc=1, scale=500), \"gamma\": sp_rand(loc=0.001, scale=0.1)}\n",
    "\n",
    "n_iter_search = 10\n",
    "random_search = RandomizedSearchCV(clf, param_distributions=param_dist, n_iter=n_iter_search, cv=4)\n",
    "\n",
    "start = time()\n",
    "random_search.fit(X_train_pca, y_train)\n",
    "end = time()\n",
    "\n",
    "print(\"La búsqueda llevó {} segundos\".format(end - start))\n",
    "\n",
    "means = random_search.cv_results_[\"mean_test_score\"]\n",
    "stds = random_search.cv_results_[\"std_test_score\"]\n",
    "params = random_search.cv_results_['params']\n",
    "ranks = random_search.cv_results_['rank_test_score']\n",
    "\n",
    "for rank, mean, std, pms in zip(ranks, means, stds, params):\n",
    "    print(\"{}) Precisión media: {:.2f} +/- {:.2f} con parámetros {}\".format(rank, mean*100, std*100, pms))"
   ]
  },
  {
   "cell_type": "markdown",
   "metadata": {},
   "source": [
    "<div style=\"background-color: #EDF7FF; border-color: #7C9DBF; border-left: 5px solid #7C9DBF; padding: 0.5em;\">\n",
    "<strong>Análisis:</strong> ¿Qué parámetros han dado mejores resultados? ¿Qué variación hay entre las diferentes combinaciones de parámetros? ¿Es significativa la variación entre las diferentes combinaciones? ¿Hay algún parámetro que influya más que el otro? ¿Era de esperar?\n",
    "</div>"
   ]
  },
  {
   "cell_type": "markdown",
   "metadata": {},
   "source": [
    "<b>Solución: </b>\n",
    "<div style=\"background-color: #FCF2F2; border-color: #dfb5b4; border-left: 5px solid #7C9DBF; padding: 0.5em;\">\n",
    "    <ul>\n",
    "<li>La mejor combinación se da con C = 245 y gamma = 0.034.\n",
    "<li>Las diferencias en la precisión no son demasiado grandes, por lo que, teniendo en cuenta la desviación estandard es difícil afirmar que haya combinaciones claramente mejores que otras.\n",
    "<li>Las mejores soluciones se dan con gamma del orden de 0.03-0.04. Se puede ver que en las mejores soluciones el valor de C es bastante variable, por lo que podemos deducir que el parámetro gamma tiene mucho más peso, lo cual es típico al utilizar el kernel radial.  \n",
    "    </ul>\n",
    "</div>"
   ]
  },
  {
   "cell_type": "markdown",
   "metadata": {},
   "source": [
    "<div style=\"background-color: #EDF7FF; border-color: #7C9DBF; border-left: 5px solid #7C9DBF; padding: 0.5em;\">\n",
    "<strong>Implementación:</strong> entrenar un modelo SVM con los valores de los hiperparámetros óptimos utilizando todo el conjunto *X_train_pca* y mostrar la precisión de la predicción del modelo en el conjunto *X_test_pca*.\n",
    "</div>"
   ]
  },
  {
   "cell_type": "markdown",
   "metadata": {},
   "source": [
    "<b>Solución: </b>\n",
    "<div style=\"background-color: #FCF2F2; border-color: #dfb5b4; border-left: 5px solid #7C9DBF; padding: 0.5em;\">\n",
    "\n",
    "</div>"
   ]
  },
  {
   "cell_type": "code",
   "execution_count": null,
   "metadata": {},
   "outputs": [],
   "source": [
    "print(\"Valor óptimo para C: {}\".format(random_search.best_params_[\"C\"]))\n",
    "print(\"Valor óptimo para gamma: {}\".format(random_search.best_params_[\"gamma\"]))\n",
    "\n",
    "clf = svm.SVC(C=random_search.best_params_[\"C\"], gamma=random_search.best_params_[\"gamma\"])\n",
    "clf.fit(X_train_pca, y_train)\n",
    "\n",
    "preds = clf.predict(X_test_pca)\n",
    "\n",
    "accuracy = np.true_divide(np.sum(preds == y_test), preds.shape[0])*100\n",
    "print(\"Precisión en el conjunto de test: {:.2f}%\".format(accuracy))"
   ]
  },
  {
   "cell_type": "markdown",
   "metadata": {},
   "source": [
    "<div style=\"background-color: #EDF7FF; border-color: #7C9DBF; border-left: 5px solid #7C9DBF; padding: 0.5em;\">\n",
    "<strong>Implementación:</strong> mostrar la matriz de confusión del modelo y algunas imágenes que el modelo haya clasificado incorrectamente junto con la etiqueta asignada por el modelo y la etiqueta original.\n",
    "</div>"
   ]
  },
  {
   "cell_type": "markdown",
   "metadata": {},
   "source": [
    "<b>Solución: </b>\n",
    "<div style=\"background-color: #FCF2F2; border-color: #dfb5b4; border-left: 5px solid #7C9DBF; padding: 0.5em;\">\n",
    "\n",
    "</div>"
   ]
  },
  {
   "cell_type": "code",
   "execution_count": null,
   "metadata": {},
   "outputs": [],
   "source": [
    "cnf_matrix = confusion_matrix(y_test, preds)\n",
    "\n",
    "plot_confusion_matrix(cnf_matrix, classes=labels_text)\n",
    "\n",
    "fig, ax = plt.subplots(1, n_classes, figsize=(10,10))\n",
    "\n",
    "idxs = [np.where((y_test == i) & (preds != i))[0] for i in range(n_classes)]\n",
    "\n",
    "for i in range(n_classes):\n",
    "    k = np.random.choice(idxs[i])\n",
    "    ax[i].imshow(X_test[k].reshape(28, 28), cmap=\"gray\")\n",
    "    ax[i].set_title(\"GT: {}\\n Pred: {}\".format(labels_text[y_test[k]], labels_text[preds[k]]))"
   ]
  },
  {
   "cell_type": "markdown",
   "metadata": {},
   "source": [
    "<div style=\"background-color: #EDF7FF; border-color: #7C9DBF; border-left: 5px solid #7C9DBF; padding: 0.5em;\">\n",
    "<strong>Análisis:</strong> ¿Cómo son los errores? ¿Parecen razonables?\n",
    "</div>"
   ]
  },
  {
   "cell_type": "markdown",
   "metadata": {},
   "source": [
    "<b>Solución: </b>\n",
    "<div style=\"background-color: #FCF2F2; border-color: #dfb5b4; border-left: 5px solid #7C9DBF; padding: 0.5em;\">\n",
    "    <ul>\n",
    "<li>Este modelo parece clasificar ligeramente mejor las imágenes con \"Coat\" y \"Pullover\" que el modelo anterior, pero un poco peor las imágenes de \"Dress\".\n",
    "<li>La mayor confusión para este modelo está también entre \"Pullover\" y \"Coat\", seguido de la confusión entre \"T-shirt\" y \"Dress\".\n",
    "<li>En este caso el modelo se equivoca en alguna predicción de \"Trouser\", pero tambien es la prenda que mejor clasifica como en el modelo anterior.\n",
    "<li>Viendo algunos ejemplos de errores estos parecen bastante razonables.    </ul>\n",
    "</div>"
   ]
  },
  {
   "cell_type": "markdown",
   "metadata": {},
   "source": [
    "## 3. Redes neuronales (4 puntos)\n",
    "\n",
    "Como tercer ejercicio utilizaremos una red neuronal para clasificar las imágenes de ropa. Utilizaremos también ahora una búsqueda aleatoria para ajustar los hiperparámetros de la red neuronal. En particular, utilizaremos una red monocapa con 4 salidas (una para cada clase del conjunto de datos) entrenada con el método de retropropagación y el optimizador SGD. Las neuronas de la capa oculta tendrán como activación la función sigmoide. Los hiperparámetros a ajustar en este caso son los siguientes:\n",
    "\n",
    "- Número de neuronas de la capa oculta: probaremos valores entre 20 y 200.\n",
    "- Número de épocas de entrenamiento: probaremos valores entre 10 y 50.\n",
    "- Velocidad de aprendizaje (learning rate): probaremos valores entre 0.001 y 0.2.\n",
    "\n",
    "El procedimiento para validar el rendimiento del modelo para cada combinación de parámetros será el mismo que en los casos anteriores: validación cruzada con 4 particiones generadas de forma estratificada."
   ]
  },
  {
   "cell_type": "markdown",
   "metadata": {},
   "source": [
    "<div style=\"background-color: #EDF7FF; border-color: #7C9DBF; border-left: 5px solid #7C9DBF; padding: 0.5em;\">\n",
    "<strong>Implementación:</strong> cálculo del valor óptimo del número de neuronas de la capa oculta, el número de épocas de entrenamiento y la velocidad de aprendizaje utilizando 10 combinaciones de parámetros elegidas al azar. Podéis utilizar los módulos Sequential, Dense y SGD de keras, además de uniform y randint de scipy y StratifiedKFold de sklearn.\n",
    "</div>"
   ]
  },
  {
   "cell_type": "markdown",
   "metadata": {},
   "source": [
    "<b>Solución: </b>\n",
    "<div style=\"background-color: #FCF2F2; border-color: #dfb5b4; border-left: 5px solid #7C9DBF; padding: 0.5em;\">\n",
    "\n",
    "</div>"
   ]
  },
  {
   "cell_type": "code",
   "execution_count": null,
   "metadata": {},
   "outputs": [],
   "source": [
    "import keras\n",
    "from keras.models import Sequential\n",
    "from keras.layers import Dense\n",
    "from keras.optimizers import SGD\n",
    "from sklearn.model_selection import StratifiedKFold\n",
    "from scipy.stats import uniform as sp_rand\n",
    "from scipy.stats import randint\n",
    "from time import time\n",
    "\n",
    "kf = StratifiedKFold(n_splits=4)\n",
    "\n",
    "n_iter_search = 10\n",
    "params = np.zeros((n_iter_search, 3))\n",
    "\n",
    "n_neurons_dist = randint(low=20, high=200)\n",
    "n_epochs_dist = randint(low=10, high=50)\n",
    "lr_dist = sp_rand(loc=0.001, scale=0.2)\n",
    "\n",
    "best_it = -1\n",
    "max_score = 0\n",
    "    \n",
    "start = time()\n",
    "for i in range(n_iter_search):\n",
    "    n_neurons = n_neurons_dist.rvs()\n",
    "    n_epochs = n_epochs_dist.rvs()\n",
    "    lr = lr_dist.rvs()\n",
    "    \n",
    "    params[i, 0] = n_neurons\n",
    "    params[i, 1] = n_epochs\n",
    "    params[i, 2] = lr\n",
    "    \n",
    "    print(\"Prueba {}\".format(i))\n",
    "    print(\"Número de neuronas: {}; Número de épocas: {}; Velocidad de aprendizaje: {}\".format(n_neurons, n_epochs, lr))\n",
    "\n",
    "    scores = np.zeros(4)\n",
    "    j = 0\n",
    "    for train_index, test_index in kf.split(X_train_pca, y_train):\n",
    "        X_train_kf, X_test_kf = X_train_pca[train_index], X_train_pca[test_index]\n",
    "        y_train_kf, y_test_kf = y_train[train_index], y_train[test_index]\n",
    "        \n",
    "        y_train_kf = keras.utils.to_categorical(y_train_kf, num_classes=n_classes)\n",
    "        y_test_kf = keras.utils.to_categorical(y_test_kf, num_classes=n_classes)\n",
    "\n",
    "        model = Sequential()\n",
    "        model.add(Dense(n_neurons, input_shape=(100,), activation=\"sigmoid\"))\n",
    "        model.add(Dense(n_classes, activation='softmax'))\n",
    "\n",
    "        model.compile(optimizer=SGD(lr=lr), loss='categorical_crossentropy', metrics=['accuracy'])\n",
    "\n",
    "        model.fit(X_train_kf, y_train_kf, epochs=n_epochs, verbose=0)\n",
    "        \n",
    "        score = model.evaluate(X_test_kf, y_test_kf, verbose=0)\n",
    "        scores[j] = score[1]\n",
    "        j += 1\n",
    "        \n",
    "    score_mean = np.mean(scores)\n",
    "    score_std = np.std(scores)\n",
    "    print(\"Precisión media: {:.2f} +/- {:.2f}\".format(score_mean*100, score_std*100))\n",
    "        \n",
    "    if (score_mean > max_score):\n",
    "        max_score = score_mean\n",
    "        best_it = i\n",
    "\n",
    "end = time()\n",
    "\n",
    "print(\"La búsqueda llevó {} segundos\".format(end - start))"
   ]
  },
  {
   "cell_type": "markdown",
   "metadata": {},
   "source": [
    "<div style=\"background-color: #EDF7FF; border-color: #7C9DBF; border-left: 5px solid #7C9DBF; padding: 0.5em;\">\n",
    "<strong>Análisis:</strong> ¿Qué parámetros han dado mejores resultados? ¿Qué variación hay entre las diferentes combinaciones de parámetros? ¿Es significativa la variación entre las diferentes combinaciones? ¿Hay algún parámetro que influya más que los otros? ¿Era de esperar?\n",
    "</div>"
   ]
  },
  {
   "cell_type": "markdown",
   "metadata": {},
   "source": [
    "<b>Solución: </b>\n",
    "<div style=\"background-color: #FCF2F2; border-color: #dfb5b4; border-left: 5px solid #7C9DBF; padding: 0.5em;\">\n",
    "    <ul>\n",
    "<li>La mayor precisión se obtiene con 23 neuronas en la capa oculta y entrenando 40 épocas con una velocidad de aprendizaje de 0.119.\n",
    "<li>En este caso podemos ver mayor variabilidad entre las precisiones medias para cada combinación por lo que, aun teniendo en cuenta las desviaciones estandard podemos afirmar que algunas soluciones son mejores que otras.\n",
    "<li>Con pocas pruebas y las desviaciones estandard altas es difícil extraer relaciones claras entre hiperparámetros, pero parece aflorar que las velocidades de aprendizaje más bajas dan peores resultados en la precisión, lo cual es quiere decir que probablemente se debería haber entrenado durante más épocas.</ul>\n",
    "    \n",
    "</div>"
   ]
  },
  {
   "cell_type": "markdown",
   "metadata": {},
   "source": [
    "<div style=\"background-color: #EDF7FF; border-color: #7C9DBF; border-left: 5px solid #7C9DBF; padding: 0.5em;\">\n",
    "<strong>Implementación:</strong> entrenar una red neuronal con los valores de los hiperparámetros óptimos utilizando todo el conjunto *X_train_pca* y mostrar la precisión de la predicción del modelo en el conjunto *X_test_pca*.\n",
    "</div>"
   ]
  },
  {
   "cell_type": "code",
   "execution_count": null,
   "metadata": {},
   "outputs": [],
   "source": [
    "print(\"Número de neuronas óptimo: {}\".format(params[best_it, 0]))\n",
    "print(\"Número de épocas óptimo: {}\".format(params[best_it, 1]))\n",
    "print(\"Velocidad de aprendizaje óptima: {}\".format(params[best_it, 2]))\n",
    "\n",
    "model = Sequential()\n",
    "model.add(Dense(int(params[best_it, 0]), input_shape=(100,)))\n",
    "model.add(Dense(n_classes, activation='softmax'))\n",
    "\n",
    "model.compile(optimizer=SGD(lr=params[best_it, 2]), loss='categorical_crossentropy', metrics=['accuracy'])\n",
    "\n",
    "model.fit(X_train_pca, keras.utils.to_categorical(y_train, num_classes=n_classes), epochs=int(params[best_it, 1]), verbose=0)\n",
    "\n",
    "preds = np.argmax(model.predict(X_test_pca, verbose=0), axis=1)\n",
    "\n",
    "accuracy = np.true_divide(np.sum(preds == y_test), preds.shape[0])*100\n",
    "print(\"Precisión en el conjunto de test: {:.2f}%\".format(accuracy))"
   ]
  },
  {
   "cell_type": "markdown",
   "metadata": {},
   "source": [
    "<div style=\"background-color: #EDF7FF; border-color: #7C9DBF; border-left: 5px solid #7C9DBF; padding: 0.5em;\">\n",
    "<strong>Implementación:</strong> mostrar la matriz de confusión del modelo y algunas imágenes que el modelo haya clasificado incorrectamente junto con la etiqueta asignada por el modelo y la etiqueta original.\n",
    "</div>"
   ]
  },
  {
   "cell_type": "code",
   "execution_count": null,
   "metadata": {},
   "outputs": [],
   "source": [
    "cnf_matrix = confusion_matrix(y_test, preds)\n",
    "\n",
    "plot_confusion_matrix(cnf_matrix, classes=labels_text)\n",
    "\n",
    "fig, ax = plt.subplots(1, n_classes, figsize=(10,10))\n",
    "\n",
    "idxs = [np.where((y_test == i) & (preds != i))[0] for i in range(n_classes)]\n",
    "\n",
    "for i in range(n_classes):\n",
    "    k = np.random.choice(idxs[i])\n",
    "    ax[i].imshow(X_test[k].reshape(28, 28), cmap=\"gray\")\n",
    "    ax[i].set_title(\"GT: {}\\n Pred: {}\".format(labels_text[y_test[k]], labels_text[preds[k]]))"
   ]
  },
  {
   "cell_type": "markdown",
   "metadata": {},
   "source": [
    "<div style=\"background-color: #EDF7FF; border-color: #7C9DBF; border-left: 5px solid #7C9DBF; padding: 0.5em;\">\n",
    "<strong>Análisis:</strong> ¿Cómo son los errores? ¿Parecen razonables?\n",
    "</div>"
   ]
  },
  {
   "cell_type": "markdown",
   "metadata": {},
   "source": [
    "<b>Solución: </b>\n",
    "<div style=\"background-color: #FCF2F2; border-color: #dfb5b4; border-left: 5px solid #7C9DBF; padding: 0.5em;\">\n",
    "<ul>\n",
    "<li>Este modelo confunde muchas \"T-shirt\" con \"Dress\" y muchos \"Pullover\" con \"Coat\". Esto por su parte conlleva a la vez que el modelo prediga mejor la clase \"Coat\" que los otros modelos.\n",
    "<li>En el caso de \"Trouser\" lo clasifica con mucha seguridad, pero aún así se equivoca ligeramente más que los modelos anteriores.\n",
    "<li>Viendo algunos ejemplos parece razonable que el modelo confunda algunas imágenes de \"T-shirt\" con \"Dress\" y viceversa.    \n",
    "</ul>\n",
    "    \n",
    "</div>"
   ]
  },
  {
   "cell_type": "markdown",
   "metadata": {},
   "source": [
    "## 4. Optimización de métricas (2 puntos)\n",
    "\n",
    "En los ejercicios anteriores hemos buscado siempre el modelo que mejor precisión obtiene en general, pero esto no es siempre los más adecuado. Por ejemplo, imaginemos que necesitamos el modelo para una empresa que únicamente vende pantalones y está haciendo un estudio sobre las imágenes de pantalones que obtiene de Internet. En este escenario, imaginemos que la empresa quiere estudiar el máximo número posible de imágenes de pantalones, por lo que está muy interesada en que el modelo no clasifique erróneamente imágenes de pantalones (asumiendo si es necesario que para ello habrá imágenes clasificadas como pantalones que en realidad no lo sean).\n",
    "\n",
    "La misma idea de utilidad del modelo se puede encontrar, aunque con un ejemplo más complejo, en [este enlace](http://blog.mldb.ai/blog/posts/2016/01/ml-meets-economics/)."
   ]
  },
  {
   "cell_type": "markdown",
   "metadata": {},
   "source": [
    "<div style=\"background-color: #EDF7FF; border-color: #7C9DBF; border-left: 5px solid #7C9DBF; padding: 0.5em;\">\n",
    "<strong>Implementación:</strong> Definir una función que, dada la predicción del modelo para un conjunto de imágenes y las etiquetas reales de los datos, devuelva un coste de forma que los errores de clasificar un pantalón como otra prenda tengan el doble de peso que los otros errores.\n",
    "</div>"
   ]
  },
  {
   "cell_type": "code",
   "execution_count": null,
   "metadata": {},
   "outputs": [],
   "source": [
    "import tensorflow as tf\n",
    "from sklearn.metrics import roc_auc_score\n",
    "from keras import backend\n",
    "\n",
    "def auc(y_true, y_pred):\n",
    "    auc = tf.metrics.auc(y_true, y_pred)[1]\n",
    "    backend.get_session().run(tf.local_variables_initializer())\n",
    "    return auc"
   ]
  },
  {
   "cell_type": "markdown",
   "metadata": {},
   "source": [
    "<div style=\"background-color: #EDF7FF; border-color: #7C9DBF; border-left: 5px solid #7C9DBF; padding: 0.5em;\">\n",
    "<strong>Implementación:</strong> Utilizar la función definida anteriormente junto con el código de entrenamiento de la red neuronal para optimizar los hiperparámetros de la red según la nueva métrica.\n",
    "</div>"
   ]
  },
  {
   "cell_type": "code",
   "execution_count": null,
   "metadata": {},
   "outputs": [],
   "source": [
    "start = time()\n",
    "for i in range(n_iter_search):\n",
    "    n_neurons = n_neurons_dist.rvs()\n",
    "    n_epochs = n_epochs_dist.rvs()\n",
    "    lr = lr_dist.rvs()\n",
    "    \n",
    "    params[i, 0] = n_neurons\n",
    "    params[i, 1] = n_epochs\n",
    "    params[i, 2] = lr\n",
    "    \n",
    "    print(\"Prueba {}\".format(i))\n",
    "    print(\"Número de neuronas: {}; Número de épocas: {}; Velocidad de aprendizaje: {}\".format(n_neurons, n_epochs, lr))\n",
    "\n",
    "    scores = np.zeros(4)\n",
    "    j = 0\n",
    "    for train_index, test_index in kf.split(X_train_pca, y_train):\n",
    "        X_train_kf, X_test_kf = X_train_pca[train_index], X_train_pca[test_index]\n",
    "        y_train_kf, y_test_kf = y_train[train_index], y_train[test_index]\n",
    "        \n",
    "        y_train_kf = keras.utils.to_categorical(y_train_kf, num_classes=n_classes)\n",
    "        y_test_kf = keras.utils.to_categorical(y_test_kf, num_classes=n_classes)\n",
    "\n",
    "        model = Sequential()\n",
    "        model.add(Dense(n_neurons, input_shape=(100,), activation=\"sigmoid\"))\n",
    "        model.add(Dense(n_classes, activation='softmax'))\n",
    "\n",
    "        model.compile(optimizer=SGD(lr=lr), loss='categorical_crossentropy', metrics=[auc])\n",
    "\n",
    "        model.fit(X_train_kf, y_train_kf, epochs=n_epochs, verbose=0)\n",
    "        \n",
    "        score = model.evaluate(X_test_kf, y_test_kf, verbose=0)\n",
    "        scores[j] = score[1]\n",
    "        j += 1\n",
    "        \n",
    "    score_mean = np.mean(scores)\n",
    "    score_std = np.std(scores)\n",
    "    print(\"Precisión media: {:.2f} +/- {:.2f}\".format(score_mean*100, score_std*100))\n",
    "        \n",
    "    if (score_mean > max_score):\n",
    "        max_score = score_mean\n",
    "        best_it = i\n",
    "\n",
    "end = time()\n",
    "\n",
    "print(\"La búsqueda llevó {} segundos\".format(end - start))\n"
   ]
  },
  {
   "cell_type": "markdown",
   "metadata": {},
   "source": [
    "<div style=\"background-color: #EDF7FF; border-color: #7C9DBF; border-left: 5px solid #7C9DBF; padding: 0.5em;\">\n",
    "<strong>Análisis:</strong> ¿Han cambiado significativamente los mejores valores de los hiperparámetros? ¿Cuál crees que puede ser la razón?\n",
    "</div>"
   ]
  },
  {
   "cell_type": "markdown",
   "metadata": {},
   "source": [
    "<b>Solución: </b>\n",
    "<div style=\"background-color: #FCF2F2; border-color: #dfb5b4; border-left: 5px solid #7C9DBF; padding: 0.5em;\">\n",
    "Efectivamente, han cambiado significativamente los resultados de la prueba. Se han incrementado los resultados de precisión en todas las pruebas, aunque se ha manteniddo la velocidad de aprendizaje en los mismos rangos o similares.<br>\n",
    "    <ul>\n",
    "<li>La mayor precisión se obtiene con 104 neuronas en la capa oculta y entrenando 39 épocas con una velocidad de aprendizaje de 0.186.\n",
    "<li>En este caso podemos ver escasa variabilidad entre las precisiones medias para cada combinación.\n",
    "<li>Desviaciones estandard muy bajas.</ul>\n",
    "\n",
    "Al cambiar las metricas estandard 'metrics=['accuracy'] por las personalizadas que hemos construido en la función 'auc()', se consigue que la red entrene de manera mas eficiente las capas de aprendizaje.\n",
    "\n",
    "</div>"
   ]
  },
  {
   "cell_type": "code",
   "execution_count": null,
   "metadata": {},
   "outputs": [],
   "source": []
  },
  {
   "cell_type": "markdown",
   "metadata": {},
   "source": [
    "<div style=\"width: 100%; clear: both;\">\n",
    "<div style=\"float: left; width: 50%;\">\n",
    "<img src=\"http://www.uoc.edu/portal/_resources/common/imatges/marca_UOC/UOC_Masterbrand.jpg\", align=\"left\">\n",
    "</div>\n",
    "<div style=\"float: right; width: 50%;\">\n",
    "<p style=\"margin: 0; padding-top: 22px; text-align:right;\">M2.855 · Modelos avanzados de minería de datos · PEC4</p>\n",
    "<p style=\"margin: 0; text-align:right;\">2018-1 · Máster universitario en Ciencia de datos (Data science)</p>\n",
    "<p style=\"margin: 0; text-align:right; padding-button: 100px;\">Estudios de Informática, Multimedia y Telecomunicación</p>\n",
    "</div>\n",
    "</div>\n",
    "<div style=\"width:100%;\">&nbsp;</div>\n",
    "\n",
    "\n",
    "# PEC 4: Combinación de clasificadores\n",
    "\n",
    "En esta práctica veremos diferentes métodos de combinación de clasificadores aplicados sobre el conjunto de datos [Fashion MNIST](https://github.com/zalandoresearch/fashion-mnist) (ya usado en la práctica PEC 3).\n",
    "\n",
    "<ol start=\"0\">\n",
    "  <li>Carga de datos</li>\n",
    "  <li>Combinación paralela de clasificadores base similares\n",
    "  <br>1.1 Bagging\n",
    "  <br>. 1.1.1 Random Forest simple\n",
    "  <br>. 1.1.2 Out-of-bag\n",
    "  <br>. 1.1.3 Probabilidad por clase\n",
    "  <br>. 1.1.4 Importancia de las variables\n",
    "  <br>. 1.1.5 Número de clasificadores\n",
    "  <br>. 1.1.6 Volumen de datos\n",
    "  <br>1.2 Boosting</li>\n",
    "  <li>Combinación secuencial de clasificadores base diferentes\n",
    "  <br>2.1 Stacking\n",
    "  <br>2.2 Cascading\n",
    "  <br>. 2.2.1 Cascading simple\n",
    "  <br>. 2.2.2 Cascading con variables adicionales</li>\n",
    "</ol>\n",
    "\n",
    "**Importante: Cada uno de los ejercicios puede suponer varios minutos de ejecución, por lo que la entrega debe hacerse en formato notebook y en formato html donde se vea el código y los resultados y comentarios de cada ejercicio. Para exportar el notebook a html puede hacerse desde el menú File $\\to$ Download as $\\to$ HTML.**"
   ]
  },
  {
   "cell_type": "markdown",
   "metadata": {},
   "source": [
    "# 0. Carga de datos"
   ]
  },
  {
   "cell_type": "markdown",
   "metadata": {},
   "source": [
    "Usaremos los mismos datos que en la práctica anterior, PEC 3, que son las 5.000 imágenes Fashion MNIST, correspondientes a 5 tipos de prendas de ropa distintos: \"T-shirt\", \"Trouser\", \"Pullover\", \"Dress\" y \"Coat\".\n",
    "\n",
    "El siguiente código cargará las imágenes y mostrará un ejemplo de imagen de cada una de las clases:"
   ]
  },
  {
   "cell_type": "code",
   "execution_count": null,
   "metadata": {},
   "outputs": [],
   "source": [
    "import pickle\n",
    "import numpy as np\n",
    "\n",
    "with open(\"data.pickle\", \"rb\") as f:\n",
    "    data = pickle.load(f)\n",
    "    \n",
    "images = data[\"images\"]\n",
    "labels = data[\"labels\"]\n",
    "n_classes = 5\n",
    "labels_text = [\"T-shirt\", \"Trouser\", \"Pullover\", \"Dress\", \"Coat\"]\n",
    "\n",
    "import matplotlib.pyplot as plt\n",
    "%matplotlib inline\n",
    "\n",
    "fig, ax = plt.subplots(1, n_classes, figsize=(10,10))\n",
    "\n",
    "idxs = [np.where(labels == i)[0] for i in range(n_classes)]\n",
    "\n",
    "for i in range(n_classes):\n",
    "    k = np.random.choice(idxs[i])\n",
    "    ax[i].imshow(images[k].reshape(28, 28), cmap=\"gray\")\n",
    "    ax[i].set_title(\"{}\".format(labels_text[i]))"
   ]
  },
  {
   "cell_type": "markdown",
   "metadata": {},
   "source": [
    "Tal como en la PEC 3, reducimos dimensionalidad usando PCA:"
   ]
  },
  {
   "cell_type": "code",
   "execution_count": null,
   "metadata": {},
   "outputs": [],
   "source": [
    "from sklearn.model_selection import train_test_split\n",
    "from sklearn.decomposition import PCA\n",
    "\n",
    "X_train, X_test, y_train, y_test = train_test_split(images, labels, test_size=0.2, random_state=2017, stratify=labels)\n",
    "\n",
    "pca = PCA(n_components=100, random_state=2017)\n",
    "pca_fit = pca.fit(X_train)\n",
    "X_train_pca = pca_fit.transform(X_train)\n",
    "X_test_pca = pca_fit.transform(X_test)"
   ]
  },
  {
   "cell_type": "markdown",
   "metadata": {},
   "source": [
    "# 1. Combinación paralela de clasificadores base similares"
   ]
  },
  {
   "cell_type": "markdown",
   "metadata": {},
   "source": [
    "## 1.1 Bagging"
   ]
  },
  {
   "cell_type": "markdown",
   "metadata": {},
   "source": [
    "### 1.1.1 Random forest simple (1 punto)"
   ]
  },
  {
   "cell_type": "markdown",
   "metadata": {},
   "source": [
    "La idea básica del *bagging* es utilizar el conjunto de entrenamiento original para generar centenares o miles de conjuntos similares usando muestreo con reemplazo. En este concepto está basado el algoritmo *Random Forest*, la combinación de varios árboles de decisión, cada uno entrenado con una realización diferente de los datos. La decisión final del clasificador combinado (la *Random Forest*) se toma por mayoría, dando el mismo peso a todas las decisiones parciales tomadas por los clasificadores base (los árboles)."
   ]
  },
  {
   "cell_type": "markdown",
   "metadata": {},
   "source": [
    "<div style=\"background-color: #EDF7FF; border-color: #7C9DBF; border-left: 5px solid #7C9DBF; padding: 0.5em;\">\n",
    "<strong>Implementación:</strong> Usando los conjuntos *X_train_pca* e *y_train_pca*, entrenar un modelo *Random Forest* con 100 árboles de decisión y estimar la precisión del modelo con una estrategia de *cross-validation* en los mismos conjuntos.\n",
    "<hr>\n",
    "Sugerencia: usar los módulos *RandomForestClassifier* y *cross_val_score* de sklearn. Para aprender más sobre *cross validation* y sobre como usar estes módulos, os recomendamos los siguientes enlaces:<br>\n",
    "http://scikit-learn.org/stable/modules/generated/sklearn.ensemble.RandomForestClassifier.html<br>\n",
    "http://scikit-learn.org/stable/modules/cross_validation.html<br>\n",
    "http://scikit-learn.org/stable/modules/generated/sklearn.model_selection.cross_val_score.html\n",
    "</div>"
   ]
  },
  {
   "cell_type": "markdown",
   "metadata": {},
   "source": [
    "<div style=\"background-color: #fcf2f2; border-color: #dfb5b4; border-left: 5px solid #dfb5b4; padding: 0.5em;\">\n",
    "<strong>Solución:</strong>\n",
    "</div>"
   ]
  },
  {
   "cell_type": "code",
   "execution_count": null,
   "metadata": {},
   "outputs": [],
   "source": [
    "from sklearn.model_selection import cross_val_score\n",
    "from sklearn import ensemble\n",
    "from time import time\n",
    "\n",
    "clf = ensemble.RandomForestClassifier(n_estimators=100)\n",
    "\n",
    "cvscores = cross_val_score(clf, X_train_pca, y_train, cv=5)\n",
    "\n",
    "print(\"Precisión media obtenida con cross-validation (CV): {:.2f} +/- {:.2f} %\".format(np.mean(cvscores)*100, np.std(cvscores)*100))"
   ]
  },
  {
   "cell_type": "markdown",
   "metadata": {},
   "source": [
    "### 1.1.2 Out-of-bag (1 punto)"
   ]
  },
  {
   "cell_type": "markdown",
   "metadata": {},
   "source": [
    "Una ventaja del *bagging* usado en el *Random Forest* es que cada uno de los árboles de decisión ha sido entrenado con una combinación diferente de los datos (muestreo con reemplazo), o sea que cada uno de los árboles no ha visto una determinada parte de los datos originales. Esto define una especie de conjunto de test para cada uno de los árboles, llamado *out-of-bag*, que puede ser usado para estimar el error del modelo sin necesidad de usar el conjunto de test real que creamos previamente, ni de usar estrategias de *cross-validation*."
   ]
  },
  {
   "cell_type": "markdown",
   "metadata": {},
   "source": [
    "<div style=\"background-color: #EDF7FF; border-color: #7C9DBF; border-left: 5px solid #7C9DBF; padding: 0.5em;\">\n",
    "<strong>Implementación:</strong> Usando los conjuntos *X_train_pca* e *y_train_pca*, entrenar un modelo Random Forest con 100 árboles de decisión. Mostrar la precisión de este modelo en el *out-of-bag* y en el conjunto *X_test_pca*.\n",
    "<hr>\n",
    "Sugerencia: usar el módulo *RandomForestClassifier* de sklearn. Para aprender más sobre *out-of-bag* y sobre como usar este módulo (incluyendo el atributo *oob&#95;score_*), os recomendamos los siguientes enlaces:<br>\n",
    "http://scikit-learn.org/stable/modules/generated/sklearn.ensemble.RandomForestClassifier.html<br>\n",
    "http://scikit-learn.org/stable/auto_examples/ensemble/plot_ensemble_oob.html\n",
    "</div>"
   ]
  },
  {
   "cell_type": "markdown",
   "metadata": {},
   "source": [
    "<div style=\"background-color: #fcf2f2; border-color: #dfb5b4; border-left: 5px solid #dfb5b4; padding: 0.5em;\">\n",
    "<strong>Solución:</strong>\n",
    "</div>"
   ]
  },
  {
   "cell_type": "code",
   "execution_count": null,
   "metadata": {},
   "outputs": [],
   "source": [
    "clf = ensemble.RandomForestClassifier(n_estimators=100, oob_score=True, random_state=2017)\n",
    "\n",
    "clf.fit(X_train_pca, y_train)\n",
    "\n",
    "print(\"Precisión de este modelo con uso de Out-of-bag: {:.2f} %\".format(clf.oob_score_*100))\n",
    "\n",
    "preds_rfc = clf.predict(X_test_pca)\n",
    "accuracy = np.true_divide(np.sum(preds_rfc == y_test), preds_rfc.shape[0])*100\n",
    "print(\"Precisión en el conjunto de test: {:.2f}%\".format(accuracy))"
   ]
  },
  {
   "cell_type": "markdown",
   "metadata": {},
   "source": [
    "<div style=\"background-color: #EDF7FF; border-color: #7C9DBF; border-left: 5px solid #7C9DBF; padding: 0.5em;\">\n",
    "<strong>Análisis:</strong> La precisión obtenida en el *out-of-bag* y en el conjunto de test son comparables? Era de esperar? \n",
    "</div>"
   ]
  },
  {
   "cell_type": "markdown",
   "metadata": {},
   "source": [
    "<div style=\"background-color: #fcf2f2; border-color: #dfb5b4; border-left: 5px solid #dfb5b4; padding: 0.5em;\">\n",
    "<strong>Solución:</strong>\n",
    "<br>\n",
    "<ul>\n",
    "<li>La precisión medida con el uso de 'out-of-bag' y la obtenida en el conjunto de test son muy parecidas (aprox. una diferencia de 0,15).</li>\n",
    "<li>Este resultado era de esperar porque: \n",
    "    <ul>\n",
    "<li>la estimación del error con el out-of-bag es un método robusto y nos da el error del modelo en el conjunto de datos X_train_pca</li>\n",
    "<li>el error en el conjunto de datos de test X_test_pca es muy parecido porque X_test_pca tiene la misma estructura (fue creado con separación aleatoria estratificada) que el conjunto de datos de entrenamiento X_train_pca</li>\n",
    "</ul>\n",
    "</ul>\n",
    "</div>"
   ]
  },
  {
   "cell_type": "markdown",
   "metadata": {},
   "source": [
    "### 1.1.3 Probabilidad por clase (1 punto)"
   ]
  },
  {
   "cell_type": "markdown",
   "metadata": {},
   "source": [
    "Otra ventaja del *bagging* usado en el *Random Forest* es que cada uno de los árboles de decisión, entrenado con una combinación diferente de los datos, puede obtener un resultado diferente. En los problemas de clasificación, el resultado de cada árbol se considera como un voto diferente, y la predicción final del modelo es la clase que haya obtenido más votos teniendo en cuenta todos los árboles.\n",
    "\n",
    "Estos votos individuales de los árboles también se pueden usar para estimar la probabilidad con la que el modelo prevé cada una de las clases, siendo la probabilidad para cada clase igual al número de votos obtenidos para aquella clase dividido entre el número de árboles."
   ]
  },
  {
   "cell_type": "markdown",
   "metadata": {},
   "source": [
    "<div style=\"background-color: #EDF7FF; border-color: #7C9DBF; border-left: 5px solid #7C9DBF; padding: 0.5em;\">\n",
    "<strong>Implementación:</strong> Para cada clase (etiqueta), muestra un ejemplo de imágen que el modelo haya clasificado incorrectamente junto con la etiqueta asignada por el modelo y la etiqueta original. Muestra también las probabilidades que el modelo ha atribuído a cada clase para estas imágenes.\n",
    "<hr> Sugerencia: usa el modelo que entrenaste en el ejercicio anterior con el módulo *RandomForestClassifier* de sklearn y las previsiones que calculaste para el conjunto de datos de test. Para mostrar las imágenes, usa el código proporcionado en la sección 0. Para aprender más sobre el módulo *RandomForestClassifier* de sklearn (incluyendo el método *predict_proba*), os recomendamos el siguiente enlace:<br>\n",
    "http://scikit-learn.org/stable/modules/generated/sklearn.ensemble.RandomForestClassifier.html\n",
    "</div>"
   ]
  },
  {
   "cell_type": "markdown",
   "metadata": {},
   "source": [
    "<div style=\"background-color: #fcf2f2; border-color: #dfb5b4; border-left: 5px solid #dfb5b4; padding: 0.5em;\">\n",
    "<strong>Solución:</strong>\n",
    "</div>"
   ]
  },
  {
   "cell_type": "code",
   "execution_count": null,
   "metadata": {},
   "outputs": [],
   "source": [
    "import matplotlib.pyplot as plt\n",
    "%matplotlib inline\n",
    "\n",
    "# Obtener los índices de la primera imagen mal identificada para cada clase:\n",
    "idxs = [np.where((y_test == i) & (preds_rfc != i))[0][0] for i in range(n_classes)]\n",
    "\n",
    "# Mostrar las imágenes junto con las etiquetas actuales y previstas:\n",
    "fig, ax = plt.subplots(1, n_classes, figsize=(10,10))\n",
    "for i in range(n_classes):\n",
    "    k = idxs[i]\n",
    "    ax[i].imshow(X_test[k].reshape(28, 28), cmap=\"gray\")\n",
    "    ax[i].set_title(\"Imagen n: {}\\nActual: {}\\n Pred: {}\".format(k, labels_text[y_test[k]], labels_text[preds_rfc[k]]))"
   ]
  },
  {
   "cell_type": "code",
   "execution_count": null,
   "metadata": {},
   "outputs": [],
   "source": [
    "# Calcular las probabilidades de cada clase para cada imagen:\n",
    "probs_rfc = clf.predict_proba(X_test_pca)\n",
    "\n",
    "# Mostrar las probabilidades junto con la clase prevista (probabilidad més alta) y la real\n",
    "print(\"Etiquetas: \\t\\t\\t{}\".format(labels_text))\n",
    "for i in range(n_classes):\n",
    "    k = idxs[i]\n",
    "    print(\"Probabilidades imagen {}:\\t{}; Actual: '{}'; Pred: '{}'\".format(k, probs_rfc[k], labels_text[y_test[k]], labels_text[preds_rfc[k]]))\n",
    "\n",
    "# Adicional: calcular cuantas veces la segunda clase con más probabilidad era la correcta:\n",
    "n_max_prob_correct = 0\n",
    "n_2nd_max_prob_correct = 0\n",
    "for i in range(len(y_test)):\n",
    "    if y_test[i] == np.argmax(probs_rfc[i]):\n",
    "        n_max_prob_correct += 1\n",
    "    elif y_test[i] == probs_rfc[i].argsort()[-2]:\n",
    "        n_2nd_max_prob_correct += 1\n",
    "print(\"\\nCuantas veces el modelo acertó? (precisión): {}%\\nDe las veces que no acertó, cuantas veces la segunda clase más votada era la correcta?: {:.1f}%\" \\\n",
    "      .format(float(n_max_prob_correct)/len(y_test)*100, \n",
    "              float(n_2nd_max_prob_correct)/(len(y_test)-n_max_prob_correct)*100))"
   ]
  },
  {
   "cell_type": "markdown",
   "metadata": {},
   "source": [
    "<div style=\"background-color: #EDF7FF; border-color: #7C9DBF; border-left: 5px solid #7C9DBF; padding: 0.5em;\">\n",
    "<strong>Análisis:</strong> En estos casos en los que el modelo se equivocó, estaba cerca de prever la etiqueta correcta?\n",
    "</div>"
   ]
  },
  {
   "cell_type": "markdown",
   "metadata": {},
   "source": [
    "<div style=\"background-color: #fcf2f2; border-color: #dfb5b4; border-left: 5px solid #dfb5b4; padding: 0.5em;\">\n",
    "<strong>Solución:</strong>\n",
    "<br>\n",
    "Sí, aunque el modelo se equivocó, ha estado siempre muy cerca (relativamente) de obtener el resultado correcto.<br>\n",
    "En 4 de los 5 casos analizados, la segunda clase con una probabilidad más alta era la correcta. Esta proporción se mantiene en todo el conjunto de datos de test.<br>\n",
    "</div>"
   ]
  },
  {
   "cell_type": "markdown",
   "metadata": {},
   "source": [
    "### 1.1.4 Importancia de las variables (1 punto)"
   ]
  },
  {
   "cell_type": "markdown",
   "metadata": {},
   "source": [
    "Otra ventaja del algoritmo *Random Forest* es que permite medir la importancia relativa de cada variable, gracias a que cada uno de los árboles fué entrenado con un subconjunto diferente de las variables originales.\n",
    "\n",
    "En el problema de clasificación de imágenes analizado aquí, la importancia de las variables nos permite saber cuáles son generalmente los píxeles más importantes par poder clasificar la imágen. "
   ]
  },
  {
   "cell_type": "markdown",
   "metadata": {},
   "source": [
    "<div style=\"background-color: #EDF7FF; border-color: #7C9DBF; border-left: 5px solid #7C9DBF; padding: 0.5em;\">\n",
    "<strong>Implementación:</strong> Entrena un clasificador *Random Forest* con el conjunto de datos de entrenamiento original *X_train*, en los que cada variable es la intensidad de cada píxel (en vez de ser las variables PCA que usamos anteriormente). Muestra cuáles son las 10 variables más importantes. Haz un gráfico en el que se vea que zonas de una imágen son más importantes para el clasificador.\n",
    "\n",
    "<hr> Sugerencia: usa el módulo *RandomForestClassifier* de sklearn para calcular la importancia de las variables. Para representar gráficamente la importancia de cada píxel de la imagen, usa parte del código proporcionado en la sección 0. Para aprender más sobre el módulo *RandomForestClassifier* de sklearn (incluyendo el método *feature&#95;importances_*), os recomendamos el siguiente enlace:<br>\n",
    "http://scikit-learn.org/stable/modules/generated/sklearn.ensemble.RandomForestClassifier.html\n",
    "</div>"
   ]
  },
  {
   "cell_type": "markdown",
   "metadata": {},
   "source": [
    "<div style=\"background-color: #fcf2f2; border-color: #dfb5b4; border-left: 5px solid #dfb5b4; padding: 0.5em;\">\n",
    "<strong>Solución:</strong>\n",
    "<br>\n",
    "</div>"
   ]
  },
  {
   "cell_type": "code",
   "execution_count": null,
   "metadata": {},
   "outputs": [],
   "source": [
    "# entrenar clasificador con datos originales, sin PCA, para que cada variable sea la intensidad de cada píxel:\n",
    "clf = ensemble.RandomForestClassifier(n_estimators=80)\n",
    "clf.fit(X_train, y_train)\n",
    "\n",
    "# cálculo de la importancia de las variables y representación gráfica de las top 10:\n",
    "importances = clf.feature_importances_\n",
    "topN = 10\n",
    "indices = np.argsort(importances)\n",
    "n_feats = min(len(importances), topN)\n",
    "labels = np.arange(1, np.shape(X_train)[1]+1) # nombres de las variables, en este caso número del píxel\n",
    "plt.figure(figsize=(10,3))\n",
    "plt.title(\"Variables más importantes (número del píxel)\")\n",
    "plt.barh(range(n_feats), importances[indices][-n_feats:], color=\"b\")\n",
    "plt.yticks(range(n_feats), labels[indices][-n_feats:])\n",
    "plt.ylim([-1, n_feats])\n",
    "plt.show()\n",
    "\n",
    "# representación gráfica de la importancia de cada píxel:\n",
    "plt.figure(figsize=(5,5))\n",
    "plt.title(\"Importancia de cada píxel en el clasificador\")\n",
    "plt.imshow(importances.reshape(28, 28), cmap=\"gray\")\n",
    "plt.show()"
   ]
  },
  {
   "cell_type": "markdown",
   "metadata": {},
   "source": [
    "<div style=\"background-color: #EDF7FF; border-color: #7C9DBF; border-left: 5px solid #7C9DBF; padding: 0.5em;\">\n",
    "<strong>Análisis:</strong> Te parece plausible el resultado que has obtenido? Porqué?\n",
    "</div>"
   ]
  },
  {
   "cell_type": "markdown",
   "metadata": {},
   "source": [
    "<div style=\"background-color: #fcf2f2; border-color: #dfb5b4; border-left: 5px solid #dfb5b4; padding: 0.5em;\">\n",
    "<strong>Solución:</strong>\n",
    "<br>\n",
    "En el gráfico con la 'Importancia de cada píxel en el clasificador' vemos que hay una zona vertical central que es la más importante, así como una especie de numero ocho difuso alrededor. <br>\n",
    "Parece muy razonable ya que la línea central permite diferenciar los pantalones, mientras que la zona importante alrededor está situada aproximadamente para localizar el contorno de las diferentes prendas de vestir.<br>\n",
    "</div>"
   ]
  },
  {
   "cell_type": "markdown",
   "metadata": {},
   "source": [
    "### 1.1.5 Número de clasificadores (1 punto)"
   ]
  },
  {
   "cell_type": "markdown",
   "metadata": {},
   "source": [
    "En los ejercicios anteriores hemos combinado 100 clasificadores simples en nuestro clasificador combinado. Será que la precisión del clasificador combinado aumenta indefinidamente su desempeño si añadimos más clasificadores?\n",
    "\n",
    "Para responder a esta pregunta vamos a representar una curva de validación. La curva de validación es una representación gráfica del desempeño de un modelo variando uno de sus parámetros. Mientras que la búsqueda de rejilla nos permite encontrar la combinación de parámetros que da mejores resultados, la curva de validación nos permite entender cuál es el impacto de un determinado parámetro en el desempeño de un modelo."
   ]
  },
  {
   "cell_type": "markdown",
   "metadata": {},
   "source": [
    "<div style=\"background-color: #EDF7FF; border-color: #7C9DBF; border-left: 5px solid #7C9DBF; padding: 0.5em;\">\n",
    "<strong>Implementación:</strong> Entrena varios modelos de *Random Forest* con un número de árboles cada vez mayor. Para cada modelo, calcula su precisón en el conjunto de test o usando *cross-validation* en el conjunto de entrenamiento. Opcional: representa gráficamente la evolución de la precisión con el número de árboles para ayudarte en el análisis de los resultados.\n",
    "<hr>\n",
    "Sugerencia: usar el módulo *validation_curve* de sklearn. Para aprender a usar este módulo os recomendamos los siguientes enlaces:<br>\n",
    "http://scikit-learn.org/stable/modules/generated/sklearn.model_selection.validation_curve.html<br>\n",
    "http://scikit-learn.org/stable/modules/learning_curve.html#validation-curve\n",
    "</div>"
   ]
  },
  {
   "cell_type": "markdown",
   "metadata": {},
   "source": [
    "<div style=\"background-color: #fcf2f2; border-color: #dfb5b4; border-left: 5px solid #dfb5b4; padding: 0.5em;\">\n",
    "<strong>Solución:</strong>\n",
    "<br>\n",
    "</div>"
   ]
  },
  {
   "cell_type": "code",
   "execution_count": null,
   "metadata": {},
   "outputs": [],
   "source": [
    "from sklearn.model_selection import validation_curve\n",
    "\n",
    "param_range = np.logspace(0, 3.2, 7).astype(np.int)\n",
    "param_name=\"n_estimators\"\n",
    "train_scores, test_scores = validation_curve(\n",
    "     ensemble.RandomForestClassifier(), X_train_pca, y_train,\n",
    "     param_name=param_name, param_range=param_range,\n",
    "     cv=5, scoring=\"accuracy\", n_jobs=4)\n",
    "train_scores_mean = np.mean(train_scores, axis=1)\n",
    "train_scores_std = np.std(train_scores, axis=1)\n",
    "test_scores_mean = np.mean(test_scores, axis=1)\n",
    "test_scores_std = np.std(test_scores, axis=1)\n",
    "\n",
    "plt.title(\"Curva de validación\")\n",
    "plt.xlabel(param_name)\n",
    "plt.ylabel(\"Score\")\n",
    "plt.ylim(0.0, 1.1)\n",
    "lw = 2\n",
    "plt.semilogx(param_range, train_scores_mean, label=\"Score de entrenamiento (training)\",\n",
    "             color=\"darkorange\", lw=lw)\n",
    "plt.fill_between(param_range, train_scores_mean - train_scores_std,\n",
    "                 train_scores_mean + train_scores_std, alpha=0.2,\n",
    "                 color=\"darkorange\", lw=lw)\n",
    "plt.semilogx(param_range, test_scores_mean, label=\"Cross-validation score\",\n",
    "             color=\"navy\", lw=lw)\n",
    "plt.fill_between(param_range, test_scores_mean - test_scores_std,\n",
    "                 test_scores_mean + test_scores_std, alpha=0.2,\n",
    "                 color=\"navy\", lw=lw)\n",
    "plt.legend(loc=\"best\")\n",
    "plt.show()"
   ]
  },
  {
   "cell_type": "markdown",
   "metadata": {},
   "source": [
    "<div style=\"background-color: #EDF7FF; border-color: #7C9DBF; border-left: 5px solid #7C9DBF; padding: 0.5em;\">\n",
    "<strong>Análisis:</strong> Incrementa indefinidamente la precisión con el número de árboles combinados? Si satura, lo hace a la precisión máxima o a otro valor? Porqué?\n",
    "</div>"
   ]
  },
  {
   "cell_type": "markdown",
   "metadata": {},
   "source": [
    "<div style=\"background-color: #fcf2f2; border-color: #dfb5b4; border-left: 5px solid #dfb5b4; padding: 0.5em;\">\n",
    "<strong>Solución:</strong>\n",
    "<br>\n",
    "La precisión no aumenta indefinidamente con el número de árboles combinados, sino que se satura a un valor alrededor del 85%. Añadir más árboles sólo es útil cuando estos añaden información nueva, porque han sido entrenados con datos distintos que permiten al algoritmo mejorar las decisiones tomadas. La parcialidad de un clasificador, por falta de riqueza en los datos o falta de atributos esenciales, no puede ser totalmente solucionada añadiendo nuevos clasificadores parciales.<br>\n",
    "</div>"
   ]
  },
  {
   "cell_type": "markdown",
   "metadata": {},
   "source": [
    "### 1.1.6 Volumen de datos (1 punto)"
   ]
  },
  {
   "cell_type": "markdown",
   "metadata": {},
   "source": [
    "Será que entrenando el modelo con más datos (más imágenes) el modelo aprendería a clasificar con mejor precisión? Es muy útil intentar responder a esta pregunta antes de lanzarse a conseguir más datos, ya que este puede ser un proceso difícil, caro, o que implique esperar mucho tiempo.\n",
    "\n",
    "Para responder a esta pregunta, analizaremos cómo evoluciona la precisión del modelo en los conjuntos de entrenamiento y test para diferentes volúmenes de datos de creciente tamaño. Representar los resultados en una curva de aprendizaje (*learning curve*) nos permitirá analizar visualmente estas cantidades."
   ]
  },
  {
   "cell_type": "markdown",
   "metadata": {},
   "source": [
    "<div style=\"background-color: #EDF7FF; border-color: #7C9DBF; border-left: 5px solid #7C9DBF; padding: 0.5em;\">\n",
    "<strong>Implementación:</strong> Entrena varios modelos de *Random Forest* con un volumen de datos cada vez mayor. Para cada modelo, calcula su precisón en el conjunto de entrenamiento y de test, y representa los resultados en un gráfico.\n",
    "<hr>\n",
    "Sugerencia: usar el módulo *learning_curve* de sklearn. Para aprender a usar este módulo os recomendamos los siguientes enlaces:<br>\n",
    "http://scikit-learn.org/stable/modules/learning_curve.html#learning-curve<br>\n",
    "http://scikit-learn.org/stable/modules/generated/sklearn.model_selection.learning_curve.html\n",
    "</div>"
   ]
  },
  {
   "cell_type": "markdown",
   "metadata": {},
   "source": [
    "<div style=\"background-color: #fcf2f2; border-color: #dfb5b4; border-left: 5px solid #dfb5b4; padding: 0.5em;\">\n",
    "<strong>Solución:</strong>\n",
    "<br>\n",
    "</div>"
   ]
  },
  {
   "cell_type": "code",
   "execution_count": null,
   "metadata": {},
   "outputs": [],
   "source": [
    "from sklearn.model_selection import learning_curve\n",
    "\n",
    "\"\"\"\n",
    "Esta función corresponde con la original de la fuente:\n",
    "https://scikit-learn.org/stable/auto_examples/model_selection/plot_learning_curve.html \n",
    "\n",
    "Se han hecho variaciones en el código original\n",
    "\n",
    "\"\"\"\n",
    "\n",
    "def plot_learning_curve(estimator, title, X, y, ylim=None, cv=None,\n",
    "                        n_jobs=1, train_sizes=np.linspace(.1, 1.0, 5)):\n",
    "    \"\"\"\n",
    "    Generate a simple plot of the test and training learning curve.\n",
    "\n",
    "    Parameters\n",
    "    ----------\n",
    "    estimator : object type that implements the \"fit\" and \"predict\" methods\n",
    "        An object of that type which is cloned for each validation.\n",
    "\n",
    "    title : string\n",
    "        Title for the chart.\n",
    "\n",
    "    X : array-like, shape (n_samples, n_features)\n",
    "        Training vector, where n_samples is the number of samples and\n",
    "        n_features is the number of features.\n",
    "\n",
    "    y : array-like, shape (n_samples) or (n_samples, n_features), optional\n",
    "        Target relative to X for classification or regression;\n",
    "        None for unsupervised learning.\n",
    "\n",
    "    ylim : tuple, shape (ymin, ymax), optional\n",
    "        Defines minimum and maximum yvalues plotted.\n",
    "\n",
    "    cv : int, cross-validation generator or an iterable, optional\n",
    "        Determines the cross-validation splitting strategy.\n",
    "        Possible inputs for cv are:\n",
    "          - None, to use the default 3-fold cross-validation,\n",
    "          - integer, to specify the number of folds.\n",
    "          - An object to be used as a cross-validation generator.\n",
    "          - An iterable yielding train/test splits.\n",
    "\n",
    "        For integer/None inputs, if ``y`` is binary or multiclass,\n",
    "        :class:`StratifiedKFold` used. If the estimator is not a classifier\n",
    "        or if ``y`` is neither binary nor multiclass, :class:`KFold` is used.\n",
    "\n",
    "        Refer :ref:`User Guide <cross_validation>` for the various\n",
    "        cross-validators that can be used here.\n",
    "\n",
    "    n_jobs : integer, optional\n",
    "        Number of jobs to run in parallel (default 1).\n",
    "    \"\"\"\n",
    "    plt.figure()\n",
    "    plt.title(title)\n",
    "    # Las siguientes 2 lineas del código original no se usarán:\n",
    "    #if ylim is not None:\n",
    "    #    plt.ylim(*ylim)\n",
    "    plt.xlabel(\"Training examples\")\n",
    "    plt.ylabel(\"Score\")\n",
    "    train_sizes, train_scores, test_scores = learning_curve(\n",
    "        estimator, X, y, cv=cv, n_jobs=n_jobs, train_sizes=train_sizes)\n",
    "    train_scores_mean = np.mean(train_scores, axis=1)\n",
    "    train_scores_std = np.std(train_scores, axis=1)\n",
    "    test_scores_mean = np.mean(test_scores, axis=1)\n",
    "    test_scores_std = np.std(test_scores, axis=1)\n",
    "    plt.grid()\n",
    "\n",
    "    plt.fill_between(train_sizes, train_scores_mean - train_scores_std,\n",
    "                     train_scores_mean + train_scores_std, alpha=0.1,\n",
    "                     color=\"r\")\n",
    "    plt.fill_between(train_sizes, test_scores_mean - test_scores_std,\n",
    "                     test_scores_mean + test_scores_std, alpha=0.1, color=\"g\")\n",
    "    plt.plot(train_sizes, train_scores_mean, 'o-', color=\"r\",\n",
    "             label=\"Training score\")\n",
    "    plt.plot(train_sizes, test_scores_mean, 'o-', color=\"g\",\n",
    "             label=\"Test score\")\n",
    "\n",
    "    plt.legend(loc=\"best\")\n",
    "    return plt\n",
    "\n",
    "plot_learning_curve(ensemble.RandomForestClassifier(n_estimators=50), \n",
    "                    \"Learning curve\", \n",
    "                    X_train_pca, y_train, \n",
    "                    cv = 3)"
   ]
  },
  {
   "cell_type": "markdown",
   "metadata": {},
   "source": [
    "<div style=\"background-color: #EDF7FF; border-color: #7C9DBF; border-left: 5px solid #7C9DBF; padding: 0.5em;\">\n",
    "<strong>Análisis:</strong> Crees que si obtuviésemos más datos de entrenamiento (más imágenes clasificadas) mejoraría el modelo? Porqué?\n",
    "</div>"
   ]
  },
  {
   "cell_type": "markdown",
   "metadata": {},
   "source": [
    "<div style=\"background-color: #fcf2f2; border-color: #dfb5b4; border-left: 5px solid #dfb5b4; padding: 0.5em;\">\n",
    "<strong>Solución:</strong>\n",
    "<br>\n",
    "En el gráfico vemos que la precisión del modelo en el conjunto de datos de entrenamiento es la máxima posible, por lo que el modelo consigue clasificar perfectamente esas imágenes. <br>\n",
    "Sin embargo, la precisión en el conjunto de test está muy por debajo. Esto nos muestra que el modelo no generaliza suficientemente la lógica de clasificación de las imágenes, sino que esta lógica es demasiado específica del conjunto usado para entrenar el modelo. <br>\n",
    "Este problema se conoce como *overfitting* y podría ser solucionado añadiendo más datos (más imágenes clasificadas).<br>\n",
    "Por otro lado, en el gráfico también vemos que la precisión en el conjunto de test aumenta al aumentar el volumen de datos (aunque cada vez más lentamente, se comporta de manera asintótica hacia el valor 0.85), por lo que esperamos que la precisión continúe en aumento si tuviésemos más imágenes.\n",
    "</div>"
   ]
  },
  {
   "cell_type": "markdown",
   "metadata": {},
   "source": [
    "## 1.2 Boosting (1 punto)"
   ]
  },
  {
   "cell_type": "markdown",
   "metadata": {},
   "source": [
    "En el sistema de *Boosting* se combinan varios clasificadores débiles sequencialmente, y en cada uno de ellos se da más peso a los datos que han sido erróneamente clasificados en las combinaciones anteriores, para que se concentre así en los casos más difíciles de resolver."
   ]
  },
  {
   "cell_type": "markdown",
   "metadata": {},
   "source": [
    "<div style=\"background-color: #EDF7FF; border-color: #7C9DBF; border-left: 5px solid #7C9DBF; padding: 0.5em;\">\n",
    "<strong>Implementación:</strong> Usando el conjunto *X_train_pca*, entrena un modelo Gradient Boosting y estima la precisión del modelo con una estrategia de *cross-validation* en los mismos conjuntos. Seguidamente calcula las previsiones del modelo en el conjunto *X_test_pca* y su precisión en este conjunto.\n",
    "\n",
    "<hr>\n",
    "Sugerencia: usar los módulos *GradientBoostingClassifier* y *cross_val_score* de sklearn. Para aprender a usar este módulo os recomendamos el siguientes enlace:<br>\n",
    "http://scikit-learn.org/stable/modules/generated/sklearn.ensemble.GradientBoostingClassifier.html\n",
    "</div>"
   ]
  },
  {
   "cell_type": "markdown",
   "metadata": {},
   "source": [
    "<div style=\"background-color: #fcf2f2; border-color: #dfb5b4; border-left: 5px solid #dfb5b4; padding: 0.5em;\">\n",
    "<strong>Solución:</strong>\n",
    "<br>\n",
    "</div>"
   ]
  },
  {
   "cell_type": "code",
   "execution_count": null,
   "metadata": {},
   "outputs": [],
   "source": [
    "clf = ensemble.GradientBoostingClassifier()\n",
    "\n",
    "cvscores = cross_val_score(clf, X_train_pca, y_train, cv=5)\n",
    "\n",
    "print(\"Precisión media obtenida con CV: {:.2f} +/- {:.2f} %\".format(np.mean(cvscores)*100, np.std(cvscores)*100))\n",
    "\n",
    "clf.fit(X_train_pca, y_train)\n",
    "\n",
    "preds_gbc = clf.predict(X_test_pca)\n",
    "\n",
    "# Calcular las probabilidades de cada clase para cada imagen:\n",
    "probs_gbc = clf.predict_proba(X_test_pca)"
   ]
  },
  {
   "cell_type": "markdown",
   "metadata": {},
   "source": [
    "<div style=\"background-color: #EDF7FF; border-color: #7C9DBF; border-left: 5px solid #7C9DBF; padding: 0.5em;\">\n",
    "<strong>Análisis:</strong> El boosting se basa en la combinación de clasificadores débiles. En la implementación que utilizaste en este ejercicio, cuál es la profundidad de los árboles utilizados? Compárala con la que utilizaste en los árboles de decisión del ejercicio de *bagging*.\n",
    "</div>"
   ]
  },
  {
   "cell_type": "markdown",
   "metadata": {},
   "source": [
    "<div style=\"background-color: #fcf2f2; border-color: #dfb5b4; border-left: 5px solid #dfb5b4; padding: 0.5em;\">\n",
    "<strong>Solución:</strong>\n",
    "<br>\n",
    "Por defecto en la implementación de sklearn se impone un límite de 3 niveles de profundidad en los árboles usados para el 'boosting', mientras que para el 'bagging' usamos árboles sin límite de profundidad.</div>"
   ]
  },
  {
   "cell_type": "markdown",
   "metadata": {},
   "source": [
    "# 2. Combinación secuencial de clasificadores base diferentes"
   ]
  },
  {
   "cell_type": "markdown",
   "metadata": {},
   "source": [
    "## 2.1 Stacking (1 punto)"
   ]
  },
  {
   "cell_type": "markdown",
   "metadata": {},
   "source": [
    "Un clasificador de *stacking* usa como atributos las predicciones hechas por otros clasificadores en lugar de los datos originales de entrada."
   ]
  },
  {
   "cell_type": "markdown",
   "metadata": {},
   "source": [
    "Para construir nuestro clasificador de *stacking* vamos a usar las predicciones hechas en el conjunto de test por los clasificadores:\n",
    "- utilizados en los ejercicios anteriores en la PEC 4\n",
    "- los utilizados en la PEC 3 (K-Nearest neighbors Classifier (knc), Support Vector Machines Classifier (svmc) y Neural Network Classifier (nnc))\n",
    "- Discriminant Analysis (dac)\n",
    "\n",
    "los dos últimos os los damos en archivos adjuntos. Estas predicciones se pueden cargar con el siguiente código: "
   ]
  },
  {
   "cell_type": "code",
   "execution_count": null,
   "metadata": {},
   "outputs": [],
   "source": [
    "# carga de predicciones calculadas en la prueba PEC3:\n",
    "preds_knc = np.load(\"preds_knc.pickle\")\n",
    "preds_svmc = np.load(\"preds_svmc.pickle\")\n",
    "preds_nnc = np.load(\"preds_nnc.pickle\")\n",
    "\n",
    "# carga de las predicciones por un modelo de Discriminant Analysis:\n",
    "preds_dac = np.load(\"preds_dac.pickle\")"
   ]
  },
  {
   "cell_type": "markdown",
   "metadata": {},
   "source": [
    "<div style=\"background-color: #EDF7FF; border-color: #7C9DBF; border-left: 5px solid #7C9DBF; padding: 0.5em;\">\n",
    "<strong>Implementación:</strong> Construye un clasificador de *stacking* usando una *Random Forest* que use como atributos a las predicciones hechas en el conjunto de test por los algoritmos k-nn, SVM, red neuronal y  Gradient Boosting. Calcula la precisión del modelo resultante con *cross-validation* en el conjunto de test.\n",
    "\n",
    "<hr>\n",
    "Sugerencia: usar las funciones column_stack de numpy y OneHotEncoder de sklearn para preparar los datos. Para aprender a usar estas funciones  os recomendamos los siguientes enlaces:<br>\n",
    "https://docs.scipy.org/doc/numpy-1.14.0/reference/generated/numpy.column_stack.html<br>\n",
    "http://scikit-learn.org/stable/modules/generated/sklearn.preprocessing.OneHotEncoder.html<br>\n",
    "http://scikit-learn.org/stable/modules/preprocessing.html#encoding-categorical-features\n",
    "</div>"
   ]
  },
  {
   "cell_type": "markdown",
   "metadata": {},
   "source": [
    "<div style=\"background-color: #fcf2f2; border-color: #dfb5b4; border-left: 5px solid #dfb5b4; padding: 0.5em;\">\n",
    "<strong>Solución:</strong>\n",
    "<br>\n",
    "</div>"
   ]
  },
  {
   "cell_type": "code",
   "execution_count": null,
   "metadata": {},
   "outputs": [],
   "source": [
    "# Juntar las predicciones de los distintos clasificadores:\n",
    "X_test_stacking = np.column_stack((preds_rfc, preds_gbc, preds_knc, preds_svmc, preds_nnc, preds_dac))\n",
    "print(\"Dimensiones de la matriz con las predicciones de todos los clasificadores: {}\".format(np.shape(X_test_stacking)))\n",
    "\n",
    "# Transformar las variables categóricas (son todas) con OneHotEncoder:\n",
    "from sklearn.preprocessing import OneHotEncoder\n",
    "enc = OneHotEncoder(categories='auto')\n",
    "enc.fit(X_test_stacking)  \n",
    "X_test_stacking = enc.transform(X_test_stacking).toarray()\n",
    "print(\"Dimensiones de la matriz para entrenar el clasificador de stacking: {}\".format(np.shape(X_test_stacking)))\n",
    "\n",
    "# Calcular la precisión de un RandomForestClassifier con estas variables usando CV:\n",
    "clf = ensemble.RandomForestClassifier(n_estimators=100)\n",
    "cvscores = cross_val_score(clf, X_test_stacking, y_test, cv=5)\n",
    "print(\"Precisión media obtenida con CV: {:.2f} +/- {:.2f} %\".format(np.mean(cvscores)*100, np.std(cvscores)*100))"
   ]
  },
  {
   "cell_type": "markdown",
   "metadata": {},
   "source": [
    "<div style=\"background-color: #EDF7FF; border-color: #7C9DBF; border-left: 5px solid #7C9DBF; padding: 0.5em;\">\n",
    "<strong>Análisis:</strong> Has conseguido mejorar la precisión gracias al *stacking*? Comenta el resultado.\n",
    "</div>"
   ]
  },
  {
   "cell_type": "markdown",
   "metadata": {},
   "source": [
    "<div style=\"background-color: #fcf2f2; border-color: #dfb5b4; border-left: 5px solid #dfb5b4; padding: 0.5em;\">\n",
    "<strong>Solución:</strong>\n",
    "<br>\n",
    "La precisión obtenida gracias al 'stacking' es ligeramente superior a la obtenida con el mejor modelo anterior, gradient boosting.<br>\n",
    "Aunque las desviaciones de las precisiones medias con CV son del mismo orden que la mejora obtenida, repitiendo el cálculo para diferentes 'seeds' nos da resultados consistentes en los que el 'stacking' es siempre ligeramente superior.\n",
    "</div>"
   ]
  },
  {
   "cell_type": "markdown",
   "metadata": {},
   "source": [
    "## 2.2 Cascading"
   ]
  },
  {
   "cell_type": "markdown",
   "metadata": {},
   "source": [
    "### 2.2.1 Cascading simple (1 punto)"
   ]
  },
  {
   "cell_type": "markdown",
   "metadata": {},
   "source": [
    "El caso de *cascading* es parecido al de *stacking* pero utilizando no solamente las predicciones parciales de los clasificadores base, sino también los datos originales."
   ]
  },
  {
   "cell_type": "markdown",
   "metadata": {},
   "source": [
    "<div style=\"background-color: #EDF7FF; border-color: #7C9DBF; border-left: 5px solid #7C9DBF; padding: 0.5em;\">\n",
    "<strong>Implementación:</strong> Construye un clasificador de *cascading* usando una *Random Forest* que use como atributos a las predicciones hechas en el conjunto de test por los algoritmos k-nn, SVM, red neuronal y  Gradient Boosting, así como también las variables originales. Calcula la precisión del modelo resultante con *cross-validation* en el conjunto de test.\n",
    "\n",
    "<hr>\n",
    "Sugerencia: Usa el mismo conjunto de datos que en el ejercicio anterior pero añade el conjunto de test original *X_test_pca*.\n",
    "</div>"
   ]
  },
  {
   "cell_type": "markdown",
   "metadata": {},
   "source": [
    "<div style=\"background-color: #fcf2f2; border-color: #dfb5b4; border-left: 5px solid #dfb5b4; padding: 0.5em;\">\n",
    "<strong>Solución:</strong>\n",
    "<br>\n",
    "</div>"
   ]
  },
  {
   "cell_type": "code",
   "execution_count": null,
   "metadata": {},
   "outputs": [],
   "source": [
    "# Juntar las predicciones de los distintos clasificadores y las variables originales:\n",
    "X_test_cascading = np.column_stack((X_test_pca, X_test_stacking))\n",
    "print(\"Dimensiones de la matriz: {}\".format(np.shape(X_test_cascading)))\n",
    "\n",
    "# Calcular la precisión de un RandomForestClassifier con estas variables usando CV:\n",
    "clf = ensemble.RandomForestClassifier(n_estimators=100)\n",
    "cvscores = cross_val_score(clf, X_test_cascading, y_test, cv=5)\n",
    "print(\"Precisión media obtenida con CV: {:.2f} +/- {:.2f} %\".format(np.mean(cvscores)*100, np.std(cvscores)*100))"
   ]
  },
  {
   "cell_type": "markdown",
   "metadata": {},
   "source": [
    "<div style=\"background-color: #EDF7FF; border-color: #7C9DBF; border-left: 5px solid #7C9DBF; padding: 0.5em;\">\n",
    "<strong>Análisis:</strong> Has conseguido mejorar la precisión gracias al *cascading*? Comenta el resultado.\n",
    "</div>"
   ]
  },
  {
   "cell_type": "markdown",
   "metadata": {},
   "source": [
    "<div style=\"background-color: #fcf2f2; border-color: #dfb5b4; border-left: 5px solid #dfb5b4; padding: 0.5em;\">\n",
    "<strong>Solución:</strong>\n",
    "<br>\n",
    "La precisión obtenida gracias al 'cascading' es equivalente o ligerísimamente superior a la obtenida con 'stacking'. Las desviaciones de las precisiones medias con CV son superiores a mejora obtenida. <br>\n",
    "Repitiendo el cálculo para diferentes 'seeds' vemos que el 'cascading' es consistentemente superior, pero el margen es muy pequeño.</div>"
   ]
  },
  {
   "cell_type": "markdown",
   "metadata": {},
   "source": [
    "### 2.2.2 Cascading con variables adicionales (1 punto)"
   ]
  },
  {
   "cell_type": "markdown",
   "metadata": {},
   "source": [
    "En el *cascading* también podemos añadir como variables del modelo a datos adicionales que se hayan podido generar durante la toma de decisiones de los clasificadores que combinamos."
   ]
  },
  {
   "cell_type": "markdown",
   "metadata": {},
   "source": [
    "<div style=\"background-color: #EDF7FF; border-color: #7C9DBF; border-left: 5px solid #7C9DBF; padding: 0.5em;\">\n",
    "<strong>Implementación:</strong> Qué datos adicionales de los modelos anteriores podrías usar para enriquecer al modelo? Construye un clasificador de *cascading* usando una *Random Forest* que use como atributos a los usados en el ejercicio anterior más otros que puedas obtener de algunos de los clasificadores utilizados en los ejercicios anteriores. Calcula la precisión del modelo resultante con *cross-validation* en el conjunto de test.\n",
    "</div>"
   ]
  },
  {
   "cell_type": "markdown",
   "metadata": {},
   "source": [
    "<div style=\"background-color: #fcf2f2; border-color: #dfb5b4; border-left: 5px solid #dfb5b4; padding: 0.5em;\">\n",
    "<strong>Solución:</strong>\n",
    "<br>\n",
    "</div>"
   ]
  },
  {
   "cell_type": "code",
   "execution_count": null,
   "metadata": {},
   "outputs": [],
   "source": [
    "# Carga datos:\n",
    "probs_knc = np.load(\"probs_knc.pickle\")\n",
    "probs_svmc = np.load(\"probs_svmc.pickle\")\n",
    "probs_dac = np.load(\"probs_dac.pickle\")\n",
    "\n",
    "# Juntar las predicciones de los distintos clasificadores incluyendo las probabilidades en cada clase:\n",
    "X_test_cascading = np.column_stack((X_test_pca, probs_rfc, probs_gbc, probs_knc, probs_svmc, probs_dac, X_test_stacking))\n",
    "print(\"Dimensiones de la matriz: {}\".format(np.shape(X_test_cascading)))\n",
    "\n",
    "# Calcular la precisión de un RandomForestClassifier con estas variables usando CV:\n",
    "clf = ensemble.RandomForestClassifier(n_estimators=100)\n",
    "cvscores = cross_val_score(clf, X_test_cascading, y_test, cv=5)\n",
    "print(\"Precisión media obtenida con CV: {:.2f} +/- {:.2f} %\".format(np.mean(cvscores)*100, np.std(cvscores)*100))"
   ]
  },
  {
   "cell_type": "markdown",
   "metadata": {},
   "source": [
    "<div style=\"background-color: #EDF7FF; border-color: #7C9DBF; border-left: 5px solid #7C9DBF; padding: 0.5em;\">\n",
    "<strong>Análisis:</strong> Has conseguido mejorar la precisión gracias a añadir datos adicionales al *stacking*? Comenta el resultado.\n",
    "</div>"
   ]
  },
  {
   "cell_type": "markdown",
   "metadata": {},
   "source": [
    "<div style=\"background-color: #fcf2f2; border-color: #dfb5b4; border-left: 5px solid #dfb5b4; padding: 0.5em;\">\n",
    "<strong>Solución:</strong>\n",
    "<br>\n",
    "Hemos añadido las probabilidades de cada clase predichas por cada uno de los modelos como datos adicionales.<br>\n",
    "La precisión obtenida 'stacking' es ligeramente superior a la obtenida anteriormente, aunque esta mejora está dentro de las desviaciones de las precisiones medias con CV.<br>\n",
    "Los datos adicionados aportan nueva información al modelo, que ahora  conoce con qué probabilidad fue prevista cada clase anteriormente, por lo que no nos sorprende que el modelo haya mejorado muy ligeramente.</div>"
   ]
  },
  {
   "cell_type": "code",
   "execution_count": null,
   "metadata": {},
   "outputs": [],
   "source": []
  }
 ],
 "metadata": {
  "celltoolbar": "Raw Cell Format",
  "kernelspec": {
   "display_name": "Python 3",
   "language": "python",
   "name": "python3"
  },
  "language_info": {
   "codemirror_mode": {
    "name": "ipython",
    "version": 3
   },
   "file_extension": ".py",
   "mimetype": "text/x-python",
   "name": "python",
   "nbconvert_exporter": "python",
   "pygments_lexer": "ipython3",
   "version": "3.7.1"
  },
  "toc": {
   "base_numbering": 1,
   "nav_menu": {},
   "number_sections": true,
   "sideBar": true,
   "skip_h1_title": false,
   "title_cell": "Table of Contents",
   "title_sidebar": "Contents",
   "toc_cell": true,
   "toc_position": {
    "height": "calc(100% - 180px)",
    "left": "10px",
    "top": "150px",
    "width": "256px"
   },
   "toc_section_display": "block",
   "toc_window_display": false
  },
  "varInspector": {
   "cols": {
    "lenName": 16,
    "lenType": 16,
    "lenVar": 40
   },
   "kernels_config": {
    "python": {
     "delete_cmd_postfix": "",
     "delete_cmd_prefix": "del ",
     "library": "var_list.py",
     "varRefreshCmd": "print(var_dic_list())"
    },
    "r": {
     "delete_cmd_postfix": ") ",
     "delete_cmd_prefix": "rm(",
     "library": "var_list.r",
     "varRefreshCmd": "cat(var_dic_list()) "
    }
   },
   "types_to_exclude": [
    "module",
    "function",
    "builtin_function_or_method",
    "instance",
    "_Feature"
   ],
   "window_display": false
  }
 },
 "nbformat": 4,
 "nbformat_minor": 2
}
