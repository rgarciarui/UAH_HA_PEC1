{
 "cells": [
  {
   "cell_type": "markdown",
   "metadata": {},
   "source": [
    "<div style=\"width: 100%; clear: both;\">\n",
    "<div style=\"float: left; width: 50%;\">\n",
    "<img src=\"https://biblioteca.uah.es/imgs/logo11.png\", align=\"left\">\n",
    "</div>\n",
    "<div style=\"float: right; width: 50%;\">\n",
    "<p style=\"margin: 0; padding-top: 22px; text-align:right;\">EN26 - HERRAMIENTAS DE ANÁLISIS · PEC1</p>\n",
    "    <p style=\"margin: 0; text-align:right;\">ENTORNOS DE ANÁLISIS DE DATOS (PYTHON)  </p>\n",
    "<p style=\"margin: 0; text-align:right;\">2018-2019 · Máster universitario en Ciencia de datos (Data science)</p>\n",
    "</div>\n",
    "</div>\n",
    "<div style=\"width:100%;\">&nbsp;</div>"
   ]
  },
  {
   "cell_type": "markdown",
   "metadata": {},
   "source": [
    "##  Requerimientos de ejecución\n",
    "\n",
    "<p>La propuesta de práctica que se va a ejecutar, denominada <b>PEC1_GarciaRuiz_Ricardo</b>, utiliza librerias de TensorFlow que para su utilización en el entorno de Python y Anaconda requieren del uso de la version de <b>Python 3.5</b>, y algunas otras librerías adicionales.</p>\n",
    "<p>Este notebook de <i>conda</i> se encarga de realizar toda la preparación de un entorno virtual de ejecución para el propósito de este ejercició y sin realizar ninguna alteración en el entorno de ejecución propio de quien lo visualiza. En este sentido es una operación que podríamos llamar <b><i>atómica</i></b>, con reticencias.</p>\n",
    "<p>A continuación, y para cada paso, se irá explicando que es lo que se va realizando para la creación del entorno de ejecución.</p>"
   ]
  },
  {
   "cell_type": "markdown",
   "metadata": {},
   "source": [
    "##  Instalación de libería nb_conda\n",
    "\n",
    "<p>Para poder interactuar con entornos de instalación particularizados es preciso tener instalada la librería <b>nb_conda</b>. Esta libreria, si ya esta instalada en el sistema, no altera nada en el entorno de ejecución.</p>"
   ]
  },
  {
   "cell_type": "code",
   "execution_count": 4,
   "metadata": {},
   "outputs": [
    {
     "name": "stdout",
     "output_type": "stream",
     "text": [
      "Ya esta instalada la libreria 'nb_conda'\n"
     ]
    }
   ],
   "source": [
    "# Instalar el manejador de entornos en Anaconda\n",
    "import os\n",
    "value = os.system('conda install nb_conda -y')\n",
    "\n",
    "if value == 0:\n",
    "    print(\"Ya esta instalada la libreria 'nb_conda'\")\n",
    "    \n"
   ]
  },
  {
   "cell_type": "markdown",
   "metadata": {},
   "source": [
    "## Eliminar cualquier rastro de instalación de entorno 'TensorFlowPEC'\n",
    "\n",
    "<p>Como precaución, se elimina cualquier entorno que tenga el nombre <b>TensorFlowPEC</b>, y que este será el nombre de nuestro entorno especial de trabajo.</p>\n"
   ]
  },
  {
   "cell_type": "code",
   "execution_count": 5,
   "metadata": {},
   "outputs": [
    {
     "name": "stdout",
     "output_type": "stream",
     "text": [
      "Ya esta eliminado el entorno 'TensorFlowPEC'\n"
     ]
    }
   ],
   "source": [
    "# Crear un entorno de ejecución 'env' para Tensor Flow con Python 3.5\n",
    "# Primero se borra cualquier entorno con el nombre TensorFlowPEC\n",
    "\n",
    "value = os.system('conda remove --name TensorFlowPEC --all -y')\n",
    "\n",
    "if value == 0:\n",
    "    print(\"Ya esta eliminado el entorno 'TensorFlowPEC'\")"
   ]
  },
  {
   "cell_type": "markdown",
   "metadata": {},
   "source": [
    "Con la siguiente instrucción se puede verificar que no haya ningún entorno con el nombre 'TensorFlowPEC'.<p>"
   ]
  },
  {
   "cell_type": "code",
   "execution_count": 6,
   "metadata": {},
   "outputs": [
    {
     "name": "stdout",
     "output_type": "stream",
     "text": [
      "# conda environments:\n",
      "#\n",
      "base                  *  C:\\ProgramData\\Anaconda3\n",
      "rstudio                  C:\\ProgramData\\Anaconda3\\envs\\rstudio\n",
      "\n"
     ]
    }
   ],
   "source": [
    "! conda info --envs"
   ]
  },
  {
   "cell_type": "markdown",
   "metadata": {},
   "source": [
    "## Crear un nuevo entorno denominado 'TensorFlowPEC'\n",
    "\n",
    "<p>En este punto procedemos a crear un entorno con denominación <b>TensorFlowPEC</b>, y utilizamos para ello un fichero de configruación especial denominado <b><i>spec-file.txt</i></b>.</p>\n"
   ]
  },
  {
   "cell_type": "code",
   "execution_count": 7,
   "metadata": {},
   "outputs": [
    {
     "name": "stdout",
     "output_type": "stream",
     "text": [
      "Ya esta creado el nuevo entorno 'TensorFlowPEC'\n"
     ]
    }
   ],
   "source": [
    "# Segundo se instala el nuevo entorno con el fichero de requerimientos\n",
    "\n",
    "value = os.system('conda create --name TensorFlowPEC --file spec-file.txt -y')\n",
    "\n",
    "if value == 0:\n",
    "    print(\"Ya esta creado el nuevo entorno 'TensorFlowPEC'\")"
   ]
  },
  {
   "cell_type": "markdown",
   "metadata": {},
   "source": [
    "<p>A continuación verificamos nuevamente que tenemos disponible ya el nuevo entorno <b>TensorFlowPEC</b>. Hay que especificar que tenerlo ya cargado no significa que se pueda utilizar. Como se puede ver, un '*' (asterisco) señala el que actualmente es el entorno por defecto de ejecución.</p>"
   ]
  },
  {
   "cell_type": "code",
   "execution_count": 8,
   "metadata": {},
   "outputs": [
    {
     "name": "stdout",
     "output_type": "stream",
     "text": [
      "# conda environments:\n",
      "#\n",
      "base                  *  C:\\ProgramData\\Anaconda3\n",
      "TensorFlowPEC            C:\\ProgramData\\Anaconda3\\envs\\TensorFlowPEC\n",
      "rstudio                  C:\\ProgramData\\Anaconda3\\envs\\rstudio\n",
      "\n"
     ]
    }
   ],
   "source": [
    "! conda info --envs"
   ]
  },
  {
   "cell_type": "markdown",
   "metadata": {},
   "source": [
    "## Ejecución del notebook \n",
    "\n",
    "<p>En esta ultima fase este lanzador va a proceder a ejecutar directamente una llamada a <i>conda</i> para 'lanzar' el notebook <b>PEC1_GarciaRuiz_Ricardo</b>.</p>\n",
    "<p>Sin embargo, para asegurarnos que el nuevo notebook va a funcionar correctamente es preciso que, una vez cargado, Vd. realice una sencilla operación.</p>\n",
    "<p>Debe ir al menu de Jupyter en la parte superior y en la ruta que le indicamos a continuación activar el entorno de ejecución especial <b>Python [conda env: TensorFlowPEC]</b>. La direccion es: <b><i>Kernel -> Change kernel -> Python [conda env: TensorFlowPEC]</i></b></p>\n",
    "<p>Un ejemplo gráfico es el siguiente:</p> <p><img src=\"Acceder a Entorno TensorFlow.png\"   width=\"650px\" height=\"200px\"></p>"
   ]
  },
  {
   "cell_type": "markdown",
   "metadata": {},
   "source": [
    "<p>Ahora hacemos la llamada directa a la carga del notebook con el ejercicio....</p>"
   ]
  },
  {
   "cell_type": "code",
   "execution_count": null,
   "metadata": {},
   "outputs": [],
   "source": [
    "!jupyter notebook PEC1_GarciaRuiz_Ricardo.ipynb"
   ]
  },
  {
   "cell_type": "code",
   "execution_count": null,
   "metadata": {},
   "outputs": [],
   "source": []
  }
 ],
 "metadata": {
  "kernelspec": {
   "display_name": "Python 3",
   "language": "python",
   "name": "python3"
  },
  "language_info": {
   "codemirror_mode": {
    "name": "ipython",
    "version": 3
   },
   "file_extension": ".py",
   "mimetype": "text/x-python",
   "name": "python",
   "nbconvert_exporter": "python",
   "pygments_lexer": "ipython3",
   "version": "3.7.1"
  },
  "toc": {
   "base_numbering": 1,
   "nav_menu": {},
   "number_sections": true,
   "sideBar": true,
   "skip_h1_title": false,
   "title_cell": "Table of Contents",
   "title_sidebar": "Contents",
   "toc_cell": false,
   "toc_position": {},
   "toc_section_display": true,
   "toc_window_display": false
  },
  "varInspector": {
   "cols": {
    "lenName": 16,
    "lenType": 16,
    "lenVar": 40
   },
   "kernels_config": {
    "python": {
     "delete_cmd_postfix": "",
     "delete_cmd_prefix": "del ",
     "library": "var_list.py",
     "varRefreshCmd": "print(var_dic_list())"
    },
    "r": {
     "delete_cmd_postfix": ") ",
     "delete_cmd_prefix": "rm(",
     "library": "var_list.r",
     "varRefreshCmd": "cat(var_dic_list()) "
    }
   },
   "types_to_exclude": [
    "module",
    "function",
    "builtin_function_or_method",
    "instance",
    "_Feature"
   ],
   "window_display": false
  }
 },
 "nbformat": 4,
 "nbformat_minor": 2
}
